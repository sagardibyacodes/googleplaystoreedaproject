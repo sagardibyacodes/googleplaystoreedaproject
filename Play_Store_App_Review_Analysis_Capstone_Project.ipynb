{
  "nbformat": 4,
  "nbformat_minor": 0,
  "metadata": {
    "kernelspec": {
      "display_name": "Python 3",
      "language": "python",
      "name": "python3"
    },
    "language_info": {
      "codemirror_mode": {
        "name": "ipython",
        "version": 3
      },
      "file_extension": ".py",
      "mimetype": "text/x-python",
      "name": "python",
      "nbconvert_exporter": "python",
      "pygments_lexer": "ipython3",
      "version": "3.6.6"
    },
    "colab": {
      "provenance": [],
      "collapsed_sections": [
        "x00VlbX4a8mj",
        "k6dvgUXCTuQY",
        "_zUG7XY6eqX5",
        "6u10jOWLad9b",
        "c_x7xrQzbBjV",
        "HnvdbTkve7iK",
        "UKX40XpyY95M",
        "3iQQLZ0dftsF",
        "Rq3-5VwyNKRD"
      ]
    }
  },
  "cells": [
    {
      "cell_type": "markdown",
      "metadata": {
        "id": "Y06xIdG26kRF"
      },
      "source": [
        "\n",
        "\n",
        "\n",
        "\n",
        "![Screenshot 2024-04-16 153457.png](data:image/png;base64,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)\n",
        "\n",
        "**The Play Store apps data has enormous potential to drive app-making businesses to success. Actionable insights can be drawn for developers to work on and capture the Android market.**\n",
        "\n",
        "**Each app has values for category, rating, size, and more. Another dataset contains customer reviews of the android apps.**\n",
        "\n",
        "**Explore and analyse the data to discover key factors responsible for app engagement and success..**"
      ]
    },
    {
      "cell_type": "markdown",
      "source": [
        "# **Project Name**    - Play Store App Review Analysis - EDA"
      ],
      "metadata": {
        "id": "j1kKeScJ99J2"
      }
    },
    {
      "cell_type": "markdown",
      "source": [
        "##### **Project Type**    - EDA\n",
        "##### **Contribution**    - Individual\n",
        "##### **Team Member 1**   - Sagar Dibya\n"
      ],
      "metadata": {
        "id": "hC19FtSn-B48"
      }
    },
    {
      "cell_type": "markdown",
      "source": [
        "# **Project Summary -**"
      ],
      "metadata": {
        "id": "t-9rrdR2-G9M"
      }
    },
    {
      "cell_type": "markdown",
      "source": [
        "Exploring Key Factors for App Engagement and Success in the Google Play Store\n",
        "\n",
        "In today's digital age, the Google Play Store serves as a pivotal platform for mobile app distribution, offering developers a vast ecosystem to showcase their applications to a global audience. However, with millions of apps available, understanding the factors that contribute to an app's success and engagement is crucial for developers aiming to stand out in this competitive landscape. This project delves into the realm of app data analysis, aiming to unearth key insights into what drives app engagement and success on the Google Play Store.\n",
        "\n",
        "The primary objective of this project is to analyze data from the Google Play Store and identify the key factors that correlate with app engagement and success. By leveraging data-driven techniques and methodologies, this exploration aims to provide actionable insights for app developers and stakeholders looking to optimize their app's performance.\n",
        "\n",
        "The scope of this analysis encompasses various dimensions of app data, including but not limited to:\n",
        "\n",
        "* App categories and genres\n",
        "* User ratings and reviews\n",
        "* Number of installs and active users\n",
        "* Pricing strategies (free vs. paid)\n",
        "* App size\n",
        "\n",
        "\n",
        "**Methodology**\n",
        "\n",
        "To achieve these objectives, a structured approach will be adopted:\n",
        "\n",
        "**Data Collection:** Utilizing web scraping techniques or accessing publicly available datasets, relevant data from the Google Play Store will be collected. This will include information such as app names, categories, ratings, reviews, download statistics, and other metadata.\n",
        "\n",
        "**Data Cleaning and Preprocessing:** The collected data will undergo rigorous cleaning and preprocessing to ensure consistency and reliability. This involves handling missing values, removing duplicates, and transforming data into a format suitable for analysis.\n",
        "\n",
        "**Exploratory Data Analysis (EDA):** Through EDA techniques, we will explore relationships within the dataset. This includes generating descriptive statistics, visualizations, and uncovering patterns that may reveal insights into app performance.\n",
        "\n",
        "**Feature Engineering:** New features may be derived from the existing dataset to enhance predictive capabilities. For instance, a metric combining ratings and installs could be created to measure app popularity.\n",
        "\n",
        "\n",
        "\n",
        "**Conclusion**\n",
        "\n",
        "* Family Catgory has more apps on the play store but game category is the most popular category as this category apps has highest installs.\n",
        "\n",
        "* App rating and reviews have significant impacts on the user's decision to *\n",
        "download the app or not.\n",
        "\n",
        "* Paid apps have better rating as compared to free apps.\n",
        "\n",
        "* size of Apps matter, as users prefer apps that reqire less spcae. Apps that take larger space are downloaded less.\n",
        "\n",
        "* Sentimets in reviews also matters in attracting new users.\n",
        "\n",
        "* Paid app users have better sentiments when comapred with free app users.\n"
      ],
      "metadata": {
        "id": "uX3DmWxi-L2j"
      }
    },
    {
      "cell_type": "markdown",
      "source": [
        "# **GitHub Link -**"
      ],
      "metadata": {
        "id": "s0orULOgF6J6"
      }
    },
    {
      "cell_type": "markdown",
      "source": [
        "Provide your GitHub Link here."
      ],
      "metadata": {
        "id": "FLIPryypF8uK"
      }
    },
    {
      "cell_type": "markdown",
      "source": [
        "# **Problem Statement**\n"
      ],
      "metadata": {
        "id": "1i8WE7cz-uxk"
      }
    },
    {
      "cell_type": "markdown",
      "source": [
        "**Exploring and analysing the data to discover key factors responsible for app engagement and success in Google play store.**"
      ],
      "metadata": {
        "id": "LghC-cj0-yL0"
      }
    },
    {
      "cell_type": "markdown",
      "source": [
        "# **General Guidelines** : -  "
      ],
      "metadata": {
        "id": "zWoqVOGs-80L"
      }
    },
    {
      "cell_type": "markdown",
      "source": [
        "1.   Well-structured, formatted, and commented code is required.\n",
        "2.   Exception Handling, Production Grade Code & Deployment Ready Code will be a plus. Those students will be awarded some additional credits.\n",
        "     \n",
        "     The additional credits will have advantages over other students during Star Student selection.\n",
        "       \n",
        "             [ Note: - Deployment Ready Code is defined as, the whole .ipynb notebook should be executable in one go\n",
        "                       without a single error logged. ]\n",
        "\n",
        "3.   Each and every logic should have proper comments.\n",
        "4. You may add as many number of charts you want. Make Sure for each and every chart the following format should be answered.\n",
        "        \n",
        "\n",
        "```\n",
        "# Chart visualization code\n",
        "```\n",
        "            \n",
        "\n",
        "*   Why did you pick the specific chart?\n",
        "*   What is/are the insight(s) found from the chart?\n",
        "* Will the gained insights help creating a positive business impact?\n",
        "Are there any insights that lead to negative growth? Justify with specific reason.\n",
        "\n",
        "5. You have to create at least 15 logical & meaningful charts having important insights.\n",
        "\n",
        "\n",
        "Hints : - Do the Vizualization in  a structured way while following \"UBM\" Rule.\n"
      ],
      "metadata": {
        "id": "QSMssGG0_B0L"
      }
    },
    {
      "cell_type": "markdown",
      "source": [
        "# ***Let's Begin !***"
      ],
      "metadata": {
        "id": "lGLOkrhxCLgT"
      }
    },
    {
      "cell_type": "markdown",
      "source": [
        "## **Importing libraries and data**"
      ],
      "metadata": {
        "id": "x00VlbX4a8mj"
      }
    },
    {
      "cell_type": "code",
      "metadata": {
        "id": "dByMsuzT8Tnw"
      },
      "source": [
        "# Importing the libraries\n",
        "import numpy as np\n",
        "import pandas as pd\n",
        "import matplotlib.pyplot as plt\n",
        "import seaborn as sns\n",
        "from datetime import datetime\n",
        "%matplotlib inline\n",
        "\n",
        "sns.set_style(\"whitegrid\")"
      ],
      "execution_count": 279,
      "outputs": []
    },
    {
      "cell_type": "code",
      "metadata": {
        "colab": {
          "base_uri": "https://localhost:8080/"
        },
        "id": "60cFWw86wyrF",
        "outputId": "73b78a0d-95f6-4a4d-b2d7-f85f9f07cbd6"
      },
      "source": [
        "# Mounting the Google drive where the dataset is saved\n",
        "from google.colab import drive\n",
        "drive.mount('/content/drive')"
      ],
      "execution_count": 280,
      "outputs": [
        {
          "output_type": "stream",
          "name": "stdout",
          "text": [
            "Drive already mounted at /content/drive; to attempt to forcibly remount, call drive.mount(\"/content/drive\", force_remount=True).\n"
          ]
        }
      ]
    },
    {
      "cell_type": "code",
      "metadata": {
        "id": "BH__sqtKw0T1"
      },
      "source": [
        "# Defining the directory path where the data file is stored\n",
        "directory_path = \"/content/drive/MyDrive/Colab Notebooks/EDA project/\""
      ],
      "execution_count": 281,
      "outputs": []
    },
    {
      "cell_type": "code",
      "metadata": {
        "id": "Ut0EzMR9xJcw"
      },
      "source": [
        "# Loading the dataset as pandas data frame\n",
        "raw_apps= pd.read_csv(directory_path + \"Play Store Data.csv\")\n",
        "raw_reviews = pd.read_csv(directory_path + \"User Reviews.csv\")"
      ],
      "execution_count": 282,
      "outputs": []
    },
    {
      "cell_type": "code",
      "metadata": {
        "id": "04-AAiUsB6Dc"
      },
      "source": [
        "apps_data = raw_apps.copy()"
      ],
      "execution_count": 283,
      "outputs": []
    },
    {
      "cell_type": "markdown",
      "metadata": {
        "id": "k6dvgUXCTuQY"
      },
      "source": [
        "## ***Understanding Your Variables***\n",
        "\n",
        "Before proceeding with any analysis, it's crucial to examine the dataset's structure to grasp its organization and layout. This initial step will facilitate a better understanding of how the data is arranged and stored."
      ]
    },
    {
      "cell_type": "code",
      "metadata": {
        "colab": {
          "base_uri": "https://localhost:8080/",
          "height": 293
        },
        "id": "SEh-NPZwx-EL",
        "outputId": "5c866bc7-2c02-41b3-e786-6b98926c694c"
      },
      "source": [
        "# taking a glimpse of the dataset\n",
        "apps_data.head()"
      ],
      "execution_count": 284,
      "outputs": [
        {
          "output_type": "execute_result",
          "data": {
            "text/plain": [
              "                                                 App        Category  Rating  \\\n",
              "0     Photo Editor & Candy Camera & Grid & ScrapBook  ART_AND_DESIGN     4.1   \n",
              "1                                Coloring book moana  ART_AND_DESIGN     3.9   \n",
              "2  U Launcher Lite – FREE Live Cool Themes, Hide ...  ART_AND_DESIGN     4.7   \n",
              "3                              Sketch - Draw & Paint  ART_AND_DESIGN     4.5   \n",
              "4              Pixel Draw - Number Art Coloring Book  ART_AND_DESIGN     4.3   \n",
              "\n",
              "  Reviews  Size     Installs  Type Price Content Rating  \\\n",
              "0     159   19M      10,000+  Free     0       Everyone   \n",
              "1     967   14M     500,000+  Free     0       Everyone   \n",
              "2   87510  8.7M   5,000,000+  Free     0       Everyone   \n",
              "3  215644   25M  50,000,000+  Free     0           Teen   \n",
              "4     967  2.8M     100,000+  Free     0       Everyone   \n",
              "\n",
              "                      Genres      Last Updated         Current Ver  \\\n",
              "0               Art & Design   January 7, 2018               1.0.0   \n",
              "1  Art & Design;Pretend Play  January 15, 2018               2.0.0   \n",
              "2               Art & Design    August 1, 2018               1.2.4   \n",
              "3               Art & Design      June 8, 2018  Varies with device   \n",
              "4    Art & Design;Creativity     June 20, 2018                 1.1   \n",
              "\n",
              "    Android Ver  \n",
              "0  4.0.3 and up  \n",
              "1  4.0.3 and up  \n",
              "2  4.0.3 and up  \n",
              "3    4.2 and up  \n",
              "4    4.4 and up  "
            ],
            "text/html": [
              "\n",
              "  <div id=\"df-261077b3-799a-4c7d-bda5-d193f20f1835\" class=\"colab-df-container\">\n",
              "    <div>\n",
              "<style scoped>\n",
              "    .dataframe tbody tr th:only-of-type {\n",
              "        vertical-align: middle;\n",
              "    }\n",
              "\n",
              "    .dataframe tbody tr th {\n",
              "        vertical-align: top;\n",
              "    }\n",
              "\n",
              "    .dataframe thead th {\n",
              "        text-align: right;\n",
              "    }\n",
              "</style>\n",
              "<table border=\"1\" class=\"dataframe\">\n",
              "  <thead>\n",
              "    <tr style=\"text-align: right;\">\n",
              "      <th></th>\n",
              "      <th>App</th>\n",
              "      <th>Category</th>\n",
              "      <th>Rating</th>\n",
              "      <th>Reviews</th>\n",
              "      <th>Size</th>\n",
              "      <th>Installs</th>\n",
              "      <th>Type</th>\n",
              "      <th>Price</th>\n",
              "      <th>Content Rating</th>\n",
              "      <th>Genres</th>\n",
              "      <th>Last Updated</th>\n",
              "      <th>Current Ver</th>\n",
              "      <th>Android Ver</th>\n",
              "    </tr>\n",
              "  </thead>\n",
              "  <tbody>\n",
              "    <tr>\n",
              "      <th>0</th>\n",
              "      <td>Photo Editor &amp; Candy Camera &amp; Grid &amp; ScrapBook</td>\n",
              "      <td>ART_AND_DESIGN</td>\n",
              "      <td>4.1</td>\n",
              "      <td>159</td>\n",
              "      <td>19M</td>\n",
              "      <td>10,000+</td>\n",
              "      <td>Free</td>\n",
              "      <td>0</td>\n",
              "      <td>Everyone</td>\n",
              "      <td>Art &amp; Design</td>\n",
              "      <td>January 7, 2018</td>\n",
              "      <td>1.0.0</td>\n",
              "      <td>4.0.3 and up</td>\n",
              "    </tr>\n",
              "    <tr>\n",
              "      <th>1</th>\n",
              "      <td>Coloring book moana</td>\n",
              "      <td>ART_AND_DESIGN</td>\n",
              "      <td>3.9</td>\n",
              "      <td>967</td>\n",
              "      <td>14M</td>\n",
              "      <td>500,000+</td>\n",
              "      <td>Free</td>\n",
              "      <td>0</td>\n",
              "      <td>Everyone</td>\n",
              "      <td>Art &amp; Design;Pretend Play</td>\n",
              "      <td>January 15, 2018</td>\n",
              "      <td>2.0.0</td>\n",
              "      <td>4.0.3 and up</td>\n",
              "    </tr>\n",
              "    <tr>\n",
              "      <th>2</th>\n",
              "      <td>U Launcher Lite – FREE Live Cool Themes, Hide ...</td>\n",
              "      <td>ART_AND_DESIGN</td>\n",
              "      <td>4.7</td>\n",
              "      <td>87510</td>\n",
              "      <td>8.7M</td>\n",
              "      <td>5,000,000+</td>\n",
              "      <td>Free</td>\n",
              "      <td>0</td>\n",
              "      <td>Everyone</td>\n",
              "      <td>Art &amp; Design</td>\n",
              "      <td>August 1, 2018</td>\n",
              "      <td>1.2.4</td>\n",
              "      <td>4.0.3 and up</td>\n",
              "    </tr>\n",
              "    <tr>\n",
              "      <th>3</th>\n",
              "      <td>Sketch - Draw &amp; Paint</td>\n",
              "      <td>ART_AND_DESIGN</td>\n",
              "      <td>4.5</td>\n",
              "      <td>215644</td>\n",
              "      <td>25M</td>\n",
              "      <td>50,000,000+</td>\n",
              "      <td>Free</td>\n",
              "      <td>0</td>\n",
              "      <td>Teen</td>\n",
              "      <td>Art &amp; Design</td>\n",
              "      <td>June 8, 2018</td>\n",
              "      <td>Varies with device</td>\n",
              "      <td>4.2 and up</td>\n",
              "    </tr>\n",
              "    <tr>\n",
              "      <th>4</th>\n",
              "      <td>Pixel Draw - Number Art Coloring Book</td>\n",
              "      <td>ART_AND_DESIGN</td>\n",
              "      <td>4.3</td>\n",
              "      <td>967</td>\n",
              "      <td>2.8M</td>\n",
              "      <td>100,000+</td>\n",
              "      <td>Free</td>\n",
              "      <td>0</td>\n",
              "      <td>Everyone</td>\n",
              "      <td>Art &amp; Design;Creativity</td>\n",
              "      <td>June 20, 2018</td>\n",
              "      <td>1.1</td>\n",
              "      <td>4.4 and up</td>\n",
              "    </tr>\n",
              "  </tbody>\n",
              "</table>\n",
              "</div>\n",
              "    <div class=\"colab-df-buttons\">\n",
              "\n",
              "  <div class=\"colab-df-container\">\n",
              "    <button class=\"colab-df-convert\" onclick=\"convertToInteractive('df-261077b3-799a-4c7d-bda5-d193f20f1835')\"\n",
              "            title=\"Convert this dataframe to an interactive table.\"\n",
              "            style=\"display:none;\">\n",
              "\n",
              "  <svg xmlns=\"http://www.w3.org/2000/svg\" height=\"24px\" viewBox=\"0 -960 960 960\">\n",
              "    <path d=\"M120-120v-720h720v720H120Zm60-500h600v-160H180v160Zm220 220h160v-160H400v160Zm0 220h160v-160H400v160ZM180-400h160v-160H180v160Zm440 0h160v-160H620v160ZM180-180h160v-160H180v160Zm440 0h160v-160H620v160Z\"/>\n",
              "  </svg>\n",
              "    </button>\n",
              "\n",
              "  <style>\n",
              "    .colab-df-container {\n",
              "      display:flex;\n",
              "      gap: 12px;\n",
              "    }\n",
              "\n",
              "    .colab-df-convert {\n",
              "      background-color: #E8F0FE;\n",
              "      border: none;\n",
              "      border-radius: 50%;\n",
              "      cursor: pointer;\n",
              "      display: none;\n",
              "      fill: #1967D2;\n",
              "      height: 32px;\n",
              "      padding: 0 0 0 0;\n",
              "      width: 32px;\n",
              "    }\n",
              "\n",
              "    .colab-df-convert:hover {\n",
              "      background-color: #E2EBFA;\n",
              "      box-shadow: 0px 1px 2px rgba(60, 64, 67, 0.3), 0px 1px 3px 1px rgba(60, 64, 67, 0.15);\n",
              "      fill: #174EA6;\n",
              "    }\n",
              "\n",
              "    .colab-df-buttons div {\n",
              "      margin-bottom: 4px;\n",
              "    }\n",
              "\n",
              "    [theme=dark] .colab-df-convert {\n",
              "      background-color: #3B4455;\n",
              "      fill: #D2E3FC;\n",
              "    }\n",
              "\n",
              "    [theme=dark] .colab-df-convert:hover {\n",
              "      background-color: #434B5C;\n",
              "      box-shadow: 0px 1px 3px 1px rgba(0, 0, 0, 0.15);\n",
              "      filter: drop-shadow(0px 1px 2px rgba(0, 0, 0, 0.3));\n",
              "      fill: #FFFFFF;\n",
              "    }\n",
              "  </style>\n",
              "\n",
              "    <script>\n",
              "      const buttonEl =\n",
              "        document.querySelector('#df-261077b3-799a-4c7d-bda5-d193f20f1835 button.colab-df-convert');\n",
              "      buttonEl.style.display =\n",
              "        google.colab.kernel.accessAllowed ? 'block' : 'none';\n",
              "\n",
              "      async function convertToInteractive(key) {\n",
              "        const element = document.querySelector('#df-261077b3-799a-4c7d-bda5-d193f20f1835');\n",
              "        const dataTable =\n",
              "          await google.colab.kernel.invokeFunction('convertToInteractive',\n",
              "                                                    [key], {});\n",
              "        if (!dataTable) return;\n",
              "\n",
              "        const docLinkHtml = 'Like what you see? Visit the ' +\n",
              "          '<a target=\"_blank\" href=https://colab.research.google.com/notebooks/data_table.ipynb>data table notebook</a>'\n",
              "          + ' to learn more about interactive tables.';\n",
              "        element.innerHTML = '';\n",
              "        dataTable['output_type'] = 'display_data';\n",
              "        await google.colab.output.renderOutput(dataTable, element);\n",
              "        const docLink = document.createElement('div');\n",
              "        docLink.innerHTML = docLinkHtml;\n",
              "        element.appendChild(docLink);\n",
              "      }\n",
              "    </script>\n",
              "  </div>\n",
              "\n",
              "\n",
              "<div id=\"df-0b46ec2f-9499-4fdb-b0f3-2768c797cdbc\">\n",
              "  <button class=\"colab-df-quickchart\" onclick=\"quickchart('df-0b46ec2f-9499-4fdb-b0f3-2768c797cdbc')\"\n",
              "            title=\"Suggest charts\"\n",
              "            style=\"display:none;\">\n",
              "\n",
              "<svg xmlns=\"http://www.w3.org/2000/svg\" height=\"24px\"viewBox=\"0 0 24 24\"\n",
              "     width=\"24px\">\n",
              "    <g>\n",
              "        <path d=\"M19 3H5c-1.1 0-2 .9-2 2v14c0 1.1.9 2 2 2h14c1.1 0 2-.9 2-2V5c0-1.1-.9-2-2-2zM9 17H7v-7h2v7zm4 0h-2V7h2v10zm4 0h-2v-4h2v4z\"/>\n",
              "    </g>\n",
              "</svg>\n",
              "  </button>\n",
              "\n",
              "<style>\n",
              "  .colab-df-quickchart {\n",
              "      --bg-color: #E8F0FE;\n",
              "      --fill-color: #1967D2;\n",
              "      --hover-bg-color: #E2EBFA;\n",
              "      --hover-fill-color: #174EA6;\n",
              "      --disabled-fill-color: #AAA;\n",
              "      --disabled-bg-color: #DDD;\n",
              "  }\n",
              "\n",
              "  [theme=dark] .colab-df-quickchart {\n",
              "      --bg-color: #3B4455;\n",
              "      --fill-color: #D2E3FC;\n",
              "      --hover-bg-color: #434B5C;\n",
              "      --hover-fill-color: #FFFFFF;\n",
              "      --disabled-bg-color: #3B4455;\n",
              "      --disabled-fill-color: #666;\n",
              "  }\n",
              "\n",
              "  .colab-df-quickchart {\n",
              "    background-color: var(--bg-color);\n",
              "    border: none;\n",
              "    border-radius: 50%;\n",
              "    cursor: pointer;\n",
              "    display: none;\n",
              "    fill: var(--fill-color);\n",
              "    height: 32px;\n",
              "    padding: 0;\n",
              "    width: 32px;\n",
              "  }\n",
              "\n",
              "  .colab-df-quickchart:hover {\n",
              "    background-color: var(--hover-bg-color);\n",
              "    box-shadow: 0 1px 2px rgba(60, 64, 67, 0.3), 0 1px 3px 1px rgba(60, 64, 67, 0.15);\n",
              "    fill: var(--button-hover-fill-color);\n",
              "  }\n",
              "\n",
              "  .colab-df-quickchart-complete:disabled,\n",
              "  .colab-df-quickchart-complete:disabled:hover {\n",
              "    background-color: var(--disabled-bg-color);\n",
              "    fill: var(--disabled-fill-color);\n",
              "    box-shadow: none;\n",
              "  }\n",
              "\n",
              "  .colab-df-spinner {\n",
              "    border: 2px solid var(--fill-color);\n",
              "    border-color: transparent;\n",
              "    border-bottom-color: var(--fill-color);\n",
              "    animation:\n",
              "      spin 1s steps(1) infinite;\n",
              "  }\n",
              "\n",
              "  @keyframes spin {\n",
              "    0% {\n",
              "      border-color: transparent;\n",
              "      border-bottom-color: var(--fill-color);\n",
              "      border-left-color: var(--fill-color);\n",
              "    }\n",
              "    20% {\n",
              "      border-color: transparent;\n",
              "      border-left-color: var(--fill-color);\n",
              "      border-top-color: var(--fill-color);\n",
              "    }\n",
              "    30% {\n",
              "      border-color: transparent;\n",
              "      border-left-color: var(--fill-color);\n",
              "      border-top-color: var(--fill-color);\n",
              "      border-right-color: var(--fill-color);\n",
              "    }\n",
              "    40% {\n",
              "      border-color: transparent;\n",
              "      border-right-color: var(--fill-color);\n",
              "      border-top-color: var(--fill-color);\n",
              "    }\n",
              "    60% {\n",
              "      border-color: transparent;\n",
              "      border-right-color: var(--fill-color);\n",
              "    }\n",
              "    80% {\n",
              "      border-color: transparent;\n",
              "      border-right-color: var(--fill-color);\n",
              "      border-bottom-color: var(--fill-color);\n",
              "    }\n",
              "    90% {\n",
              "      border-color: transparent;\n",
              "      border-bottom-color: var(--fill-color);\n",
              "    }\n",
              "  }\n",
              "</style>\n",
              "\n",
              "  <script>\n",
              "    async function quickchart(key) {\n",
              "      const quickchartButtonEl =\n",
              "        document.querySelector('#' + key + ' button');\n",
              "      quickchartButtonEl.disabled = true;  // To prevent multiple clicks.\n",
              "      quickchartButtonEl.classList.add('colab-df-spinner');\n",
              "      try {\n",
              "        const charts = await google.colab.kernel.invokeFunction(\n",
              "            'suggestCharts', [key], {});\n",
              "      } catch (error) {\n",
              "        console.error('Error during call to suggestCharts:', error);\n",
              "      }\n",
              "      quickchartButtonEl.classList.remove('colab-df-spinner');\n",
              "      quickchartButtonEl.classList.add('colab-df-quickchart-complete');\n",
              "    }\n",
              "    (() => {\n",
              "      let quickchartButtonEl =\n",
              "        document.querySelector('#df-0b46ec2f-9499-4fdb-b0f3-2768c797cdbc button');\n",
              "      quickchartButtonEl.style.display =\n",
              "        google.colab.kernel.accessAllowed ? 'block' : 'none';\n",
              "    })();\n",
              "  </script>\n",
              "</div>\n",
              "\n",
              "    </div>\n",
              "  </div>\n"
            ],
            "application/vnd.google.colaboratory.intrinsic+json": {
              "type": "dataframe",
              "variable_name": "apps_data",
              "summary": "{\n  \"name\": \"apps_data\",\n  \"rows\": 10841,\n  \"fields\": [\n    {\n      \"column\": \"App\",\n      \"properties\": {\n        \"dtype\": \"string\",\n        \"num_unique_values\": 9660,\n        \"samples\": [\n          \"Run R Script - Online Statistical Data Analysis\",\n          \"EURES - Your Job in Europe\",\n          \"Dog Licks Screen Wallpaper\"\n        ],\n        \"semantic_type\": \"\",\n        \"description\": \"\"\n      }\n    },\n    {\n      \"column\": \"Category\",\n      \"properties\": {\n        \"dtype\": \"category\",\n        \"num_unique_values\": 34,\n        \"samples\": [\n          \"LIBRARIES_AND_DEMO\",\n          \"MEDICAL\",\n          \"PRODUCTIVITY\"\n        ],\n        \"semantic_type\": \"\",\n        \"description\": \"\"\n      }\n    },\n    {\n      \"column\": \"Rating\",\n      \"properties\": {\n        \"dtype\": \"number\",\n        \"std\": 0.5374313031477587,\n        \"min\": 1.0,\n        \"max\": 19.0,\n        \"num_unique_values\": 40,\n        \"samples\": [\n          5.0,\n          3.4,\n          3.3\n        ],\n        \"semantic_type\": \"\",\n        \"description\": \"\"\n      }\n    },\n    {\n      \"column\": \"Reviews\",\n      \"properties\": {\n        \"dtype\": \"string\",\n        \"num_unique_values\": 6002,\n        \"samples\": [\n          \"66661\",\n          \"7479\",\n          \"8978\"\n        ],\n        \"semantic_type\": \"\",\n        \"description\": \"\"\n      }\n    },\n    {\n      \"column\": \"Size\",\n      \"properties\": {\n        \"dtype\": \"category\",\n        \"num_unique_values\": 462,\n        \"samples\": [\n          \"746k\",\n          \"9.4M\",\n          \"35M\"\n        ],\n        \"semantic_type\": \"\",\n        \"description\": \"\"\n      }\n    },\n    {\n      \"column\": \"Installs\",\n      \"properties\": {\n        \"dtype\": \"category\",\n        \"num_unique_values\": 22,\n        \"samples\": [\n          \"10,000+\",\n          \"50+\",\n          \"5,000+\"\n        ],\n        \"semantic_type\": \"\",\n        \"description\": \"\"\n      }\n    },\n    {\n      \"column\": \"Type\",\n      \"properties\": {\n        \"dtype\": \"category\",\n        \"num_unique_values\": 3,\n        \"samples\": [\n          \"Free\",\n          \"Paid\",\n          \"0\"\n        ],\n        \"semantic_type\": \"\",\n        \"description\": \"\"\n      }\n    },\n    {\n      \"column\": \"Price\",\n      \"properties\": {\n        \"dtype\": \"category\",\n        \"num_unique_values\": 93,\n        \"samples\": [\n          \"$17.99\",\n          \"$29.99\",\n          \"$37.99\"\n        ],\n        \"semantic_type\": \"\",\n        \"description\": \"\"\n      }\n    },\n    {\n      \"column\": \"Content Rating\",\n      \"properties\": {\n        \"dtype\": \"category\",\n        \"num_unique_values\": 6,\n        \"samples\": [\n          \"Everyone\",\n          \"Teen\",\n          \"Unrated\"\n        ],\n        \"semantic_type\": \"\",\n        \"description\": \"\"\n      }\n    },\n    {\n      \"column\": \"Genres\",\n      \"properties\": {\n        \"dtype\": \"category\",\n        \"num_unique_values\": 120,\n        \"samples\": [\n          \"Casual;Action & Adventure\",\n          \"Board\",\n          \"Auto & Vehicles\"\n        ],\n        \"semantic_type\": \"\",\n        \"description\": \"\"\n      }\n    },\n    {\n      \"column\": \"Last Updated\",\n      \"properties\": {\n        \"dtype\": \"category\",\n        \"num_unique_values\": 1378,\n        \"samples\": [\n          \"March 15, 2016\",\n          \"May 14, 2013\",\n          \"October 21, 2015\"\n        ],\n        \"semantic_type\": \"\",\n        \"description\": \"\"\n      }\n    },\n    {\n      \"column\": \"Current Ver\",\n      \"properties\": {\n        \"dtype\": \"category\",\n        \"num_unique_values\": 2832,\n        \"samples\": [\n          \"7.0.4.17908\",\n          \"1.2.5.4-11\",\n          \"2.5.7.1\"\n        ],\n        \"semantic_type\": \"\",\n        \"description\": \"\"\n      }\n    },\n    {\n      \"column\": \"Android Ver\",\n      \"properties\": {\n        \"dtype\": \"category\",\n        \"num_unique_values\": 33,\n        \"samples\": [\n          \"2.2 - 7.1.1\",\n          \"7.0 and up\",\n          \"3.1 and up\"\n        ],\n        \"semantic_type\": \"\",\n        \"description\": \"\"\n      }\n    }\n  ]\n}"
            }
          },
          "metadata": {},
          "execution_count": 284
        }
      ]
    },
    {
      "cell_type": "code",
      "metadata": {
        "id": "AS7S2gedyBm0",
        "colab": {
          "base_uri": "https://localhost:8080/"
        },
        "outputId": "562f9a1f-7208-436b-e15a-a7e57d22d123"
      },
      "source": [
        "# lts check the shape of dataset (Total Rows x Coloums)\n",
        "apps_data.shape"
      ],
      "execution_count": 285,
      "outputs": [
        {
          "output_type": "execute_result",
          "data": {
            "text/plain": [
              "(10841, 13)"
            ]
          },
          "metadata": {},
          "execution_count": 285
        }
      ]
    },
    {
      "cell_type": "code",
      "metadata": {
        "colab": {
          "base_uri": "https://localhost:8080/"
        },
        "id": "14mOHCZISMhD",
        "outputId": "711aea0f-bb8c-4126-9e33-689dad44d973"
      },
      "source": [
        "# looking at the columns\n",
        "apps_data.columns"
      ],
      "execution_count": 286,
      "outputs": [
        {
          "output_type": "execute_result",
          "data": {
            "text/plain": [
              "Index(['App', 'Category', 'Rating', 'Reviews', 'Size', 'Installs', 'Type',\n",
              "       'Price', 'Content Rating', 'Genres', 'Last Updated', 'Current Ver',\n",
              "       'Android Ver'],\n",
              "      dtype='object')"
            ]
          },
          "metadata": {},
          "execution_count": 286
        }
      ]
    },
    {
      "cell_type": "code",
      "metadata": {
        "colab": {
          "base_uri": "https://localhost:8080/"
        },
        "id": "5_Io21aQ6GJQ",
        "outputId": "7baa7845-948c-431c-dd43-3fe2faa8c2e1"
      },
      "source": [
        "# basic info\n",
        "apps_data.info()"
      ],
      "execution_count": 287,
      "outputs": [
        {
          "output_type": "stream",
          "name": "stdout",
          "text": [
            "<class 'pandas.core.frame.DataFrame'>\n",
            "RangeIndex: 10841 entries, 0 to 10840\n",
            "Data columns (total 13 columns):\n",
            " #   Column          Non-Null Count  Dtype  \n",
            "---  ------          --------------  -----  \n",
            " 0   App             10841 non-null  object \n",
            " 1   Category        10841 non-null  object \n",
            " 2   Rating          9367 non-null   float64\n",
            " 3   Reviews         10841 non-null  object \n",
            " 4   Size            10841 non-null  object \n",
            " 5   Installs        10841 non-null  object \n",
            " 6   Type            10840 non-null  object \n",
            " 7   Price           10841 non-null  object \n",
            " 8   Content Rating  10840 non-null  object \n",
            " 9   Genres          10841 non-null  object \n",
            " 10  Last Updated    10841 non-null  object \n",
            " 11  Current Ver     10833 non-null  object \n",
            " 12  Android Ver     10838 non-null  object \n",
            "dtypes: float64(1), object(12)\n",
            "memory usage: 1.1+ MB\n"
          ]
        }
      ]
    },
    {
      "cell_type": "markdown",
      "metadata": {
        "id": "KfgEPU6jVBjD"
      },
      "source": [
        "### <b>*Layout of the data set*</b>\n",
        "\n",
        "It's essential to identify the various types of data or variables present in the dataset, such as float, object, and string.\n",
        "\n",
        "We observed that, our dataset contains the data of about 10841 apps.\n",
        "\n",
        "Dataset has 13 columns which are the parameters of the apps.\n",
        "\n",
        "*   **App** - Name of the app\n",
        "*   **Category** - classification of the app\n",
        "*   **Rating** - rating by the users\n",
        "*   **Reviews** - number of reviews given by users\n",
        "*   **Size** - size of the app in mb\n",
        "*   **Installs** - number of instalations of app\n",
        "*   **Type** - free or paid\n",
        "*   **Price** - price in dollars (for paid apps)\n",
        "*   **Content Rating** - rating for which users can use app\n",
        "*   **Genres** - category or type of app\n",
        "*   **Last Updated** - last date on which app was updated  \n",
        "*   **Current Ver** - current version of app\n",
        "*   **Android Ver** - android version (app supported)\n",
        "\n"
      ]
    },
    {
      "cell_type": "markdown",
      "metadata": {
        "id": "_zUG7XY6eqX5"
      },
      "source": [
        "## ***Data Wrangling***\n",
        "Missing values are caused by incomplete data. It is important to handle missing values effectively, as they can lead to inaccurate inferences and conclusions."
      ]
    },
    {
      "cell_type": "code",
      "metadata": {
        "id": "QkHIHQR0RvHB"
      },
      "source": [
        "# droping the duplicates Rows using App coloumn as parameter\n",
        "apps_data.drop_duplicates(\"App\", inplace=True)"
      ],
      "execution_count": 288,
      "outputs": []
    },
    {
      "cell_type": "code",
      "metadata": {
        "colab": {
          "base_uri": "https://localhost:8080/"
        },
        "id": "eNHvbipM7G2m",
        "outputId": "bc8d95ee-5ffd-46fe-eece-908dfd884821"
      },
      "source": [
        "# checking the columns which have missing values\n",
        "columns_with_missing_values = apps_data.columns[apps_data.isnull().any()]\n",
        "apps_data[columns_with_missing_values].isnull().sum()"
      ],
      "execution_count": 289,
      "outputs": [
        {
          "output_type": "execute_result",
          "data": {
            "text/plain": [
              "Rating            1463\n",
              "Type                 1\n",
              "Content Rating       1\n",
              "Current Ver          8\n",
              "Android Ver          3\n",
              "dtype: int64"
            ]
          },
          "metadata": {},
          "execution_count": 289
        }
      ]
    },
    {
      "cell_type": "markdown",
      "metadata": {
        "id": "pCiWGzKShPKv"
      },
      "source": [
        "**Found some missing values.**\n",
        "\n",
        "Upon reviewing the number of missing values, we identified that the Rating column has a significant amount of missing data. While other columns also contain missing values, they have fewer than 10.\n",
        "\n",
        "Now, let's delve into analyzing the columns with missing values to understand why the data is incomplete. This step is crucial in data science, as it involves investigating the reasons behind missing data. It can be a challenging aspect of data science, particularly for those newer to the field without extensive experience.\n",
        "\n",
        "To address missing values effectively, we'll need to rely on our intuition and analytical skills to determine the underlying causes of these missing data points."
      ]
    },
    {
      "cell_type": "markdown",
      "source": [
        "Lets Start with column 'Type'"
      ],
      "metadata": {
        "id": "l4hX1t0ULvNe"
      }
    },
    {
      "cell_type": "code",
      "source": [
        "# Looking at missing values in column Content 'Type'\n",
        "apps_data[apps_data['Type'].isna()]"
      ],
      "metadata": {
        "colab": {
          "base_uri": "https://localhost:8080/",
          "height": 81
        },
        "id": "W95JPNJzLuoP",
        "outputId": "3bd6833b-88db-49fb-da75-318170987665"
      },
      "execution_count": 290,
      "outputs": [
        {
          "output_type": "execute_result",
          "data": {
            "text/plain": [
              "                            App Category  Rating Reviews                Size  \\\n",
              "9148  Command & Conquer: Rivals   FAMILY     NaN       0  Varies with device   \n",
              "\n",
              "     Installs Type Price Content Rating    Genres   Last Updated  \\\n",
              "9148        0  NaN     0   Everyone 10+  Strategy  June 28, 2018   \n",
              "\n",
              "             Current Ver         Android Ver  \n",
              "9148  Varies with device  Varies with device  "
            ],
            "text/html": [
              "\n",
              "  <div id=\"df-5dc02401-0d9c-4798-b033-d577011504f7\" class=\"colab-df-container\">\n",
              "    <div>\n",
              "<style scoped>\n",
              "    .dataframe tbody tr th:only-of-type {\n",
              "        vertical-align: middle;\n",
              "    }\n",
              "\n",
              "    .dataframe tbody tr th {\n",
              "        vertical-align: top;\n",
              "    }\n",
              "\n",
              "    .dataframe thead th {\n",
              "        text-align: right;\n",
              "    }\n",
              "</style>\n",
              "<table border=\"1\" class=\"dataframe\">\n",
              "  <thead>\n",
              "    <tr style=\"text-align: right;\">\n",
              "      <th></th>\n",
              "      <th>App</th>\n",
              "      <th>Category</th>\n",
              "      <th>Rating</th>\n",
              "      <th>Reviews</th>\n",
              "      <th>Size</th>\n",
              "      <th>Installs</th>\n",
              "      <th>Type</th>\n",
              "      <th>Price</th>\n",
              "      <th>Content Rating</th>\n",
              "      <th>Genres</th>\n",
              "      <th>Last Updated</th>\n",
              "      <th>Current Ver</th>\n",
              "      <th>Android Ver</th>\n",
              "    </tr>\n",
              "  </thead>\n",
              "  <tbody>\n",
              "    <tr>\n",
              "      <th>9148</th>\n",
              "      <td>Command &amp; Conquer: Rivals</td>\n",
              "      <td>FAMILY</td>\n",
              "      <td>NaN</td>\n",
              "      <td>0</td>\n",
              "      <td>Varies with device</td>\n",
              "      <td>0</td>\n",
              "      <td>NaN</td>\n",
              "      <td>0</td>\n",
              "      <td>Everyone 10+</td>\n",
              "      <td>Strategy</td>\n",
              "      <td>June 28, 2018</td>\n",
              "      <td>Varies with device</td>\n",
              "      <td>Varies with device</td>\n",
              "    </tr>\n",
              "  </tbody>\n",
              "</table>\n",
              "</div>\n",
              "    <div class=\"colab-df-buttons\">\n",
              "\n",
              "  <div class=\"colab-df-container\">\n",
              "    <button class=\"colab-df-convert\" onclick=\"convertToInteractive('df-5dc02401-0d9c-4798-b033-d577011504f7')\"\n",
              "            title=\"Convert this dataframe to an interactive table.\"\n",
              "            style=\"display:none;\">\n",
              "\n",
              "  <svg xmlns=\"http://www.w3.org/2000/svg\" height=\"24px\" viewBox=\"0 -960 960 960\">\n",
              "    <path d=\"M120-120v-720h720v720H120Zm60-500h600v-160H180v160Zm220 220h160v-160H400v160Zm0 220h160v-160H400v160ZM180-400h160v-160H180v160Zm440 0h160v-160H620v160ZM180-180h160v-160H180v160Zm440 0h160v-160H620v160Z\"/>\n",
              "  </svg>\n",
              "    </button>\n",
              "\n",
              "  <style>\n",
              "    .colab-df-container {\n",
              "      display:flex;\n",
              "      gap: 12px;\n",
              "    }\n",
              "\n",
              "    .colab-df-convert {\n",
              "      background-color: #E8F0FE;\n",
              "      border: none;\n",
              "      border-radius: 50%;\n",
              "      cursor: pointer;\n",
              "      display: none;\n",
              "      fill: #1967D2;\n",
              "      height: 32px;\n",
              "      padding: 0 0 0 0;\n",
              "      width: 32px;\n",
              "    }\n",
              "\n",
              "    .colab-df-convert:hover {\n",
              "      background-color: #E2EBFA;\n",
              "      box-shadow: 0px 1px 2px rgba(60, 64, 67, 0.3), 0px 1px 3px 1px rgba(60, 64, 67, 0.15);\n",
              "      fill: #174EA6;\n",
              "    }\n",
              "\n",
              "    .colab-df-buttons div {\n",
              "      margin-bottom: 4px;\n",
              "    }\n",
              "\n",
              "    [theme=dark] .colab-df-convert {\n",
              "      background-color: #3B4455;\n",
              "      fill: #D2E3FC;\n",
              "    }\n",
              "\n",
              "    [theme=dark] .colab-df-convert:hover {\n",
              "      background-color: #434B5C;\n",
              "      box-shadow: 0px 1px 3px 1px rgba(0, 0, 0, 0.15);\n",
              "      filter: drop-shadow(0px 1px 2px rgba(0, 0, 0, 0.3));\n",
              "      fill: #FFFFFF;\n",
              "    }\n",
              "  </style>\n",
              "\n",
              "    <script>\n",
              "      const buttonEl =\n",
              "        document.querySelector('#df-5dc02401-0d9c-4798-b033-d577011504f7 button.colab-df-convert');\n",
              "      buttonEl.style.display =\n",
              "        google.colab.kernel.accessAllowed ? 'block' : 'none';\n",
              "\n",
              "      async function convertToInteractive(key) {\n",
              "        const element = document.querySelector('#df-5dc02401-0d9c-4798-b033-d577011504f7');\n",
              "        const dataTable =\n",
              "          await google.colab.kernel.invokeFunction('convertToInteractive',\n",
              "                                                    [key], {});\n",
              "        if (!dataTable) return;\n",
              "\n",
              "        const docLinkHtml = 'Like what you see? Visit the ' +\n",
              "          '<a target=\"_blank\" href=https://colab.research.google.com/notebooks/data_table.ipynb>data table notebook</a>'\n",
              "          + ' to learn more about interactive tables.';\n",
              "        element.innerHTML = '';\n",
              "        dataTable['output_type'] = 'display_data';\n",
              "        await google.colab.output.renderOutput(dataTable, element);\n",
              "        const docLink = document.createElement('div');\n",
              "        docLink.innerHTML = docLinkHtml;\n",
              "        element.appendChild(docLink);\n",
              "      }\n",
              "    </script>\n",
              "  </div>\n",
              "\n",
              "\n",
              "    </div>\n",
              "  </div>\n"
            ],
            "application/vnd.google.colaboratory.intrinsic+json": {
              "type": "dataframe",
              "repr_error": "0"
            }
          },
          "metadata": {},
          "execution_count": 290
        }
      ]
    },
    {
      "cell_type": "markdown",
      "source": [
        "After cross-checking in the dataset the app's price is 0 it means the missing value is Free, So now we can fill the missing value with *Free*"
      ],
      "metadata": {
        "id": "XfqtlFGAMgD4"
      }
    },
    {
      "cell_type": "code",
      "source": [
        "# Looking at missing values in column Content 'Type'\n",
        "apps_data['Type'].fillna('free', inplace = True)"
      ],
      "metadata": {
        "id": "KaL0IUBPMNc2"
      },
      "execution_count": 291,
      "outputs": []
    },
    {
      "cell_type": "code",
      "metadata": {
        "colab": {
          "base_uri": "https://localhost:8080/",
          "height": 81
        },
        "id": "yDzu8I6dpwMd",
        "outputId": "0c0addaa-0029-4c3b-c0ac-5e2256c6b714"
      },
      "source": [
        "# Looking at missing values in column Content 'Rating'\n",
        "apps_data[apps_data['Content Rating'].isna()]"
      ],
      "execution_count": 292,
      "outputs": [
        {
          "output_type": "execute_result",
          "data": {
            "text/plain": [
              "                                           App Category  Rating Reviews  \\\n",
              "10472  Life Made WI-Fi Touchscreen Photo Frame      1.9    19.0    3.0M   \n",
              "\n",
              "         Size Installs Type     Price Content Rating             Genres  \\\n",
              "10472  1,000+     Free    0  Everyone            NaN  February 11, 2018   \n",
              "\n",
              "      Last Updated Current Ver Android Ver  \n",
              "10472       1.0.19  4.0 and up         NaN  "
            ],
            "text/html": [
              "\n",
              "  <div id=\"df-3e54bf31-7409-41fd-b47d-4a61f51e4ad2\" class=\"colab-df-container\">\n",
              "    <div>\n",
              "<style scoped>\n",
              "    .dataframe tbody tr th:only-of-type {\n",
              "        vertical-align: middle;\n",
              "    }\n",
              "\n",
              "    .dataframe tbody tr th {\n",
              "        vertical-align: top;\n",
              "    }\n",
              "\n",
              "    .dataframe thead th {\n",
              "        text-align: right;\n",
              "    }\n",
              "</style>\n",
              "<table border=\"1\" class=\"dataframe\">\n",
              "  <thead>\n",
              "    <tr style=\"text-align: right;\">\n",
              "      <th></th>\n",
              "      <th>App</th>\n",
              "      <th>Category</th>\n",
              "      <th>Rating</th>\n",
              "      <th>Reviews</th>\n",
              "      <th>Size</th>\n",
              "      <th>Installs</th>\n",
              "      <th>Type</th>\n",
              "      <th>Price</th>\n",
              "      <th>Content Rating</th>\n",
              "      <th>Genres</th>\n",
              "      <th>Last Updated</th>\n",
              "      <th>Current Ver</th>\n",
              "      <th>Android Ver</th>\n",
              "    </tr>\n",
              "  </thead>\n",
              "  <tbody>\n",
              "    <tr>\n",
              "      <th>10472</th>\n",
              "      <td>Life Made WI-Fi Touchscreen Photo Frame</td>\n",
              "      <td>1.9</td>\n",
              "      <td>19.0</td>\n",
              "      <td>3.0M</td>\n",
              "      <td>1,000+</td>\n",
              "      <td>Free</td>\n",
              "      <td>0</td>\n",
              "      <td>Everyone</td>\n",
              "      <td>NaN</td>\n",
              "      <td>February 11, 2018</td>\n",
              "      <td>1.0.19</td>\n",
              "      <td>4.0 and up</td>\n",
              "      <td>NaN</td>\n",
              "    </tr>\n",
              "  </tbody>\n",
              "</table>\n",
              "</div>\n",
              "    <div class=\"colab-df-buttons\">\n",
              "\n",
              "  <div class=\"colab-df-container\">\n",
              "    <button class=\"colab-df-convert\" onclick=\"convertToInteractive('df-3e54bf31-7409-41fd-b47d-4a61f51e4ad2')\"\n",
              "            title=\"Convert this dataframe to an interactive table.\"\n",
              "            style=\"display:none;\">\n",
              "\n",
              "  <svg xmlns=\"http://www.w3.org/2000/svg\" height=\"24px\" viewBox=\"0 -960 960 960\">\n",
              "    <path d=\"M120-120v-720h720v720H120Zm60-500h600v-160H180v160Zm220 220h160v-160H400v160Zm0 220h160v-160H400v160ZM180-400h160v-160H180v160Zm440 0h160v-160H620v160ZM180-180h160v-160H180v160Zm440 0h160v-160H620v160Z\"/>\n",
              "  </svg>\n",
              "    </button>\n",
              "\n",
              "  <style>\n",
              "    .colab-df-container {\n",
              "      display:flex;\n",
              "      gap: 12px;\n",
              "    }\n",
              "\n",
              "    .colab-df-convert {\n",
              "      background-color: #E8F0FE;\n",
              "      border: none;\n",
              "      border-radius: 50%;\n",
              "      cursor: pointer;\n",
              "      display: none;\n",
              "      fill: #1967D2;\n",
              "      height: 32px;\n",
              "      padding: 0 0 0 0;\n",
              "      width: 32px;\n",
              "    }\n",
              "\n",
              "    .colab-df-convert:hover {\n",
              "      background-color: #E2EBFA;\n",
              "      box-shadow: 0px 1px 2px rgba(60, 64, 67, 0.3), 0px 1px 3px 1px rgba(60, 64, 67, 0.15);\n",
              "      fill: #174EA6;\n",
              "    }\n",
              "\n",
              "    .colab-df-buttons div {\n",
              "      margin-bottom: 4px;\n",
              "    }\n",
              "\n",
              "    [theme=dark] .colab-df-convert {\n",
              "      background-color: #3B4455;\n",
              "      fill: #D2E3FC;\n",
              "    }\n",
              "\n",
              "    [theme=dark] .colab-df-convert:hover {\n",
              "      background-color: #434B5C;\n",
              "      box-shadow: 0px 1px 3px 1px rgba(0, 0, 0, 0.15);\n",
              "      filter: drop-shadow(0px 1px 2px rgba(0, 0, 0, 0.3));\n",
              "      fill: #FFFFFF;\n",
              "    }\n",
              "  </style>\n",
              "\n",
              "    <script>\n",
              "      const buttonEl =\n",
              "        document.querySelector('#df-3e54bf31-7409-41fd-b47d-4a61f51e4ad2 button.colab-df-convert');\n",
              "      buttonEl.style.display =\n",
              "        google.colab.kernel.accessAllowed ? 'block' : 'none';\n",
              "\n",
              "      async function convertToInteractive(key) {\n",
              "        const element = document.querySelector('#df-3e54bf31-7409-41fd-b47d-4a61f51e4ad2');\n",
              "        const dataTable =\n",
              "          await google.colab.kernel.invokeFunction('convertToInteractive',\n",
              "                                                    [key], {});\n",
              "        if (!dataTable) return;\n",
              "\n",
              "        const docLinkHtml = 'Like what you see? Visit the ' +\n",
              "          '<a target=\"_blank\" href=https://colab.research.google.com/notebooks/data_table.ipynb>data table notebook</a>'\n",
              "          + ' to learn more about interactive tables.';\n",
              "        element.innerHTML = '';\n",
              "        dataTable['output_type'] = 'display_data';\n",
              "        await google.colab.output.renderOutput(dataTable, element);\n",
              "        const docLink = document.createElement('div');\n",
              "        docLink.innerHTML = docLinkHtml;\n",
              "        element.appendChild(docLink);\n",
              "      }\n",
              "    </script>\n",
              "  </div>\n",
              "\n",
              "\n",
              "    </div>\n",
              "  </div>\n"
            ],
            "application/vnd.google.colaboratory.intrinsic+json": {
              "type": "dataframe",
              "repr_error": "0"
            }
          },
          "metadata": {},
          "execution_count": 292
        }
      ]
    },
    {
      "cell_type": "markdown",
      "metadata": {
        "id": "rSBKxxIe3rtP"
      },
      "source": [
        "Looking at missing value, we cannot conclude why this data is missing. So, it's better to drop this row."
      ]
    },
    {
      "cell_type": "code",
      "metadata": {
        "id": "r9eCuHBQ3hmw"
      },
      "source": [
        "apps_data.dropna(subset=['Content Rating'], inplace= True)"
      ],
      "execution_count": 293,
      "outputs": []
    },
    {
      "cell_type": "markdown",
      "metadata": {
        "id": "1uIym4Xr8MMP"
      },
      "source": [
        "Android Ver and Current Ver columns will not be needed for any analysis and visualisation as they only denote the updates. So lets drop this columns.\n"
      ]
    },
    {
      "cell_type": "code",
      "metadata": {
        "id": "D3gJS6-a6ju1"
      },
      "source": [
        "# dropping unnecessary columns\n",
        "apps_data.drop(columns=['Android Ver','Current Ver'], axis= 1, inplace= True)"
      ],
      "execution_count": 294,
      "outputs": []
    },
    {
      "cell_type": "markdown",
      "metadata": {
        "id": "fqIIq8_Tdh20"
      },
      "source": [
        "Now lets analys the missing values in column 'Rating', as there are 1474 missing values we cannot delete these many rows. So lets check with distribution plot who the ratings are distributed.\n",
        "\n",
        "So, let's see the distribution of the ratings."
      ]
    },
    {
      "cell_type": "code",
      "metadata": {
        "colab": {
          "base_uri": "https://localhost:8080/",
          "height": 449
        },
        "id": "84zPwmTWfUSF",
        "outputId": "1e4c1ca7-84a5-4776-f71d-03feebb0f568"
      },
      "source": [
        "# plot distribution rating\n",
        "sns.distplot(apps_data['Rating'])\n",
        "plt.show()"
      ],
      "execution_count": 295,
      "outputs": [
        {
          "output_type": "display_data",
          "data": {
            "text/plain": [
              "<Figure size 640x480 with 1 Axes>"
            ],
            "image/png": "[encoded data removed]"
          },
          "metadata": {}
        }
      ]
    },
    {
      "cell_type": "markdown",
      "metadata": {
        "id": "zgi8xrgMeuXG"
      },
      "source": [
        "According to distribution plot above, the rating data is a skewed distribution as the tail of the distribution extends towards the lower end of the score range.\n",
        "\n",
        "In skewed distributions, the median is the best measure because it is unaffected by extreme outliers or non-symmetric distributions of scores."
      ]
    },
    {
      "cell_type": "code",
      "metadata": {
        "id": "Qt33Mzo2c97I",
        "colab": {
          "base_uri": "https://localhost:8080/"
        },
        "outputId": "fda5030f-aaba-41f0-b789-0d3e59ca1898"
      },
      "source": [
        "# calculating median value and printing it\n",
        "median_value = apps_data['Rating'].median()\n",
        "median_value"
      ],
      "execution_count": 296,
      "outputs": [
        {
          "output_type": "execute_result",
          "data": {
            "text/plain": [
              "4.3"
            ]
          },
          "metadata": {},
          "execution_count": 296
        }
      ]
    },
    {
      "cell_type": "code",
      "metadata": {
        "id": "nUI751XK9Q64"
      },
      "source": [
        "# replacing the missing values with median value\n",
        "apps_data['Rating'].fillna(median_value, inplace= True)"
      ],
      "execution_count": 297,
      "outputs": []
    },
    {
      "cell_type": "markdown",
      "metadata": {
        "id": "nDIW5o9NBAAK"
      },
      "source": [
        "Finally, all the missing values are fixed.\n",
        "\n",
        "Now lets check the dataset"
      ]
    },
    {
      "cell_type": "code",
      "metadata": {
        "colab": {
          "base_uri": "https://localhost:8080/"
        },
        "id": "ik_I0IC5BciR",
        "outputId": "0c226caa-b611-47c6-9fa1-ad7e8be589c2"
      },
      "source": [
        "# checking the count of missing values\n",
        "apps_data.isna().sum()"
      ],
      "execution_count": 298,
      "outputs": [
        {
          "output_type": "execute_result",
          "data": {
            "text/plain": [
              "App               0\n",
              "Category          0\n",
              "Rating            0\n",
              "Reviews           0\n",
              "Size              0\n",
              "Installs          0\n",
              "Type              0\n",
              "Price             0\n",
              "Content Rating    0\n",
              "Genres            0\n",
              "Last Updated      0\n",
              "dtype: int64"
            ]
          },
          "metadata": {},
          "execution_count": 298
        }
      ]
    },
    {
      "cell_type": "markdown",
      "metadata": {
        "id": "C7lTf31VBc6Y"
      },
      "source": [
        "All the columns have null count zero it means now the dataset doesn't contain any missing values.\n",
        "\n",
        "So we can now conclude that our dataset is cleaned and we can start preparing our dataset."
      ]
    },
    {
      "cell_type": "code",
      "metadata": {
        "colab": {
          "base_uri": "https://localhost:8080/"
        },
        "id": "UJqsTm5r9ld8",
        "outputId": "887f8861-ed3a-4966-92f1-5c72f087bb38"
      },
      "source": [
        "# basic info\n",
        "apps_data.info()"
      ],
      "execution_count": 299,
      "outputs": [
        {
          "output_type": "stream",
          "name": "stdout",
          "text": [
            "<class 'pandas.core.frame.DataFrame'>\n",
            "Index: 9659 entries, 0 to 10840\n",
            "Data columns (total 11 columns):\n",
            " #   Column          Non-Null Count  Dtype  \n",
            "---  ------          --------------  -----  \n",
            " 0   App             9659 non-null   object \n",
            " 1   Category        9659 non-null   object \n",
            " 2   Rating          9659 non-null   float64\n",
            " 3   Reviews         9659 non-null   object \n",
            " 4   Size            9659 non-null   object \n",
            " 5   Installs        9659 non-null   object \n",
            " 6   Type            9659 non-null   object \n",
            " 7   Price           9659 non-null   object \n",
            " 8   Content Rating  9659 non-null   object \n",
            " 9   Genres          9659 non-null   object \n",
            " 10  Last Updated    9659 non-null   object \n",
            "dtypes: float64(1), object(10)\n",
            "memory usage: 905.5+ KB\n"
          ]
        }
      ]
    },
    {
      "cell_type": "markdown",
      "metadata": {
        "id": "QDlYgCFhDUDW"
      },
      "source": [
        "To better analys the date we have to change columns like Reviews, Size, Installs, Price which are of object data type to integer/float.\n",
        "\n",
        "Let's start with changing Reviews column from object to integer."
      ]
    },
    {
      "cell_type": "code",
      "metadata": {
        "id": "WT7vsx3F8nlJ"
      },
      "source": [
        "# changing data type of column Reviews\n",
        "apps_data['Reviews'] = apps_data.Reviews.astype(int)"
      ],
      "execution_count": 300,
      "outputs": []
    },
    {
      "cell_type": "markdown",
      "metadata": {
        "id": "Dtlijtkb-2ci"
      },
      "source": [
        "Changing the type of 'Installs' column, first we have to remove the special character '+' and ',' from the values and than change the data type to int."
      ]
    },
    {
      "cell_type": "code",
      "metadata": {
        "id": "YkymvctS-3Wp"
      },
      "source": [
        "apps_data['Installs'] = apps_data['Installs'].apply(lambda x: x.replace('+', ''))\n",
        "apps_data['Installs'] = apps_data['Installs'].apply(lambda x: x.replace(',', ''))\n",
        "apps_data['Installs'] = apps_data['Installs'].astype(int)"
      ],
      "execution_count": 301,
      "outputs": []
    },
    {
      "cell_type": "markdown",
      "metadata": {
        "id": "wZq_wLVkB34z"
      },
      "source": [
        "Lets change the type of Price column to float. First,  we have remove the special character '$'."
      ]
    },
    {
      "cell_type": "code",
      "metadata": {
        "id": "4YhRx_-F-4Gv"
      },
      "source": [
        "apps_data['Price'] = apps_data['Price'].apply(lambda x: x.replace('$', ''))\n",
        "apps_data['Price'] = apps_data['Price'].astype(float)"
      ],
      "execution_count": 302,
      "outputs": []
    },
    {
      "cell_type": "markdown",
      "source": [
        "Now changing the type of the Size column. First looking at the unique values in the column."
      ],
      "metadata": {
        "id": "cTS6LdEJIy_v"
      }
    },
    {
      "cell_type": "code",
      "source": [
        "apps_data['Size'].unique()"
      ],
      "metadata": {
        "colab": {
          "base_uri": "https://localhost:8080/"
        },
        "id": "GzL51F6nI7x3",
        "outputId": "9ebc3fad-bc8a-4438-e508-d8a80eec6d2c"
      },
      "execution_count": 303,
      "outputs": [
        {
          "output_type": "execute_result",
          "data": {
            "text/plain": [
              "array(['19M', '14M', '8.7M', '25M', '2.8M', '5.6M', '29M', '33M', '3.1M',\n",
              "       '28M', '12M', '20M', '21M', '37M', '2.7M', '5.5M', '17M', '39M',\n",
              "       '31M', '4.2M', '7.0M', '23M', '6.0M', '6.1M', '4.6M', '9.2M',\n",
              "       '5.2M', '11M', '24M', 'Varies with device', '9.4M', '15M', '10M',\n",
              "       '1.2M', '26M', '8.0M', '7.9M', '56M', '57M', '35M', '54M', '201k',\n",
              "       '3.6M', '5.7M', '8.6M', '2.4M', '27M', '2.5M', '16M', '3.4M',\n",
              "       '8.9M', '3.9M', '2.9M', '38M', '32M', '5.4M', '18M', '1.1M',\n",
              "       '2.2M', '4.5M', '9.8M', '52M', '9.0M', '6.7M', '30M', '2.6M',\n",
              "       '7.1M', '3.7M', '22M', '7.4M', '6.4M', '3.2M', '8.2M', '9.9M',\n",
              "       '4.9M', '9.5M', '5.0M', '5.9M', '13M', '73M', '6.8M', '3.5M',\n",
              "       '4.0M', '2.3M', '7.2M', '2.1M', '42M', '7.3M', '9.1M', '55M',\n",
              "       '23k', '6.5M', '1.5M', '7.5M', '51M', '41M', '48M', '8.5M', '46M',\n",
              "       '8.3M', '4.3M', '4.7M', '3.3M', '40M', '7.8M', '8.8M', '6.6M',\n",
              "       '5.1M', '61M', '66M', '79k', '8.4M', '118k', '44M', '695k', '1.6M',\n",
              "       '6.2M', '18k', '53M', '1.4M', '3.0M', '5.8M', '3.8M', '9.6M',\n",
              "       '45M', '63M', '49M', '77M', '4.4M', '4.8M', '70M', '6.9M', '9.3M',\n",
              "       '10.0M', '8.1M', '36M', '84M', '97M', '2.0M', '1.9M', '1.8M',\n",
              "       '5.3M', '47M', '556k', '526k', '76M', '7.6M', '59M', '9.7M', '78M',\n",
              "       '72M', '43M', '7.7M', '6.3M', '334k', '34M', '93M', '65M', '79M',\n",
              "       '100M', '58M', '50M', '68M', '64M', '67M', '60M', '94M', '232k',\n",
              "       '99M', '624k', '95M', '8.5k', '41k', '292k', '11k', '80M', '1.7M',\n",
              "       '74M', '62M', '69M', '75M', '98M', '85M', '82M', '96M', '87M',\n",
              "       '71M', '86M', '91M', '81M', '92M', '83M', '88M', '704k', '862k',\n",
              "       '899k', '378k', '266k', '375k', '1.3M', '975k', '980k', '4.1M',\n",
              "       '89M', '696k', '544k', '525k', '920k', '779k', '853k', '720k',\n",
              "       '713k', '772k', '318k', '58k', '241k', '196k', '857k', '51k',\n",
              "       '953k', '865k', '251k', '930k', '540k', '313k', '746k', '203k',\n",
              "       '26k', '314k', '239k', '371k', '220k', '730k', '756k', '91k',\n",
              "       '293k', '17k', '74k', '14k', '317k', '78k', '924k', '902k', '818k',\n",
              "       '81k', '939k', '169k', '45k', '475k', '965k', '90M', '545k', '61k',\n",
              "       '283k', '655k', '714k', '93k', '872k', '121k', '322k', '1.0M',\n",
              "       '976k', '172k', '238k', '549k', '206k', '954k', '444k', '717k',\n",
              "       '210k', '609k', '308k', '705k', '306k', '904k', '473k', '175k',\n",
              "       '350k', '383k', '454k', '421k', '70k', '812k', '442k', '842k',\n",
              "       '417k', '412k', '459k', '478k', '335k', '782k', '721k', '430k',\n",
              "       '429k', '192k', '200k', '460k', '728k', '496k', '816k', '414k',\n",
              "       '506k', '887k', '613k', '243k', '569k', '778k', '683k', '592k',\n",
              "       '319k', '186k', '840k', '647k', '191k', '373k', '437k', '598k',\n",
              "       '716k', '585k', '982k', '222k', '219k', '55k', '948k', '323k',\n",
              "       '691k', '511k', '951k', '963k', '25k', '554k', '351k', '27k',\n",
              "       '82k', '208k', '913k', '514k', '551k', '29k', '103k', '898k',\n",
              "       '743k', '116k', '153k', '209k', '353k', '499k', '173k', '597k',\n",
              "       '809k', '122k', '411k', '400k', '801k', '787k', '237k', '50k',\n",
              "       '643k', '986k', '97k', '516k', '837k', '780k', '961k', '269k',\n",
              "       '20k', '498k', '600k', '749k', '642k', '881k', '72k', '656k',\n",
              "       '601k', '221k', '228k', '108k', '940k', '176k', '33k', '663k',\n",
              "       '34k', '942k', '259k', '164k', '458k', '245k', '629k', '28k',\n",
              "       '288k', '775k', '785k', '636k', '916k', '994k', '309k', '485k',\n",
              "       '914k', '903k', '608k', '500k', '54k', '562k', '847k', '957k',\n",
              "       '688k', '811k', '270k', '48k', '329k', '523k', '921k', '874k',\n",
              "       '981k', '784k', '280k', '24k', '518k', '754k', '892k', '154k',\n",
              "       '860k', '364k', '387k', '626k', '161k', '879k', '39k', '970k',\n",
              "       '170k', '141k', '160k', '144k', '143k', '190k', '376k', '193k',\n",
              "       '246k', '73k', '658k', '992k', '253k', '420k', '404k', '470k',\n",
              "       '226k', '240k', '89k', '234k', '257k', '861k', '467k', '157k',\n",
              "       '44k', '676k', '67k', '552k', '885k', '1020k', '582k', '619k'],\n",
              "      dtype=object)"
            ]
          },
          "metadata": {},
          "execution_count": 303
        }
      ]
    },
    {
      "cell_type": "markdown",
      "metadata": {
        "id": "bgY2MYGzq79Z"
      },
      "source": [
        "Size column contain characters M and K which denotes MB and KB so we will remove M and convert kB to MB by replacing K with e-3.\n",
        "\n",
        "There are some apps which size varies with device in which they are installed so we cannot predict there size or replace them with mean or median as some have small and some large size. It will be better to drop that rows with varies with devices in Size column and change its data type to float because while converting KB to MB the dateset will have decimals also. So its better to covert it to float."
      ]
    },
    {
      "cell_type": "code",
      "metadata": {
        "id": "vHYQH3RbqvGL"
      },
      "source": [
        "apps_data['Size'] = apps_data['Size'].apply(lambda x: x.replace('M', ''))\n",
        "apps_data['Size'] = apps_data['Size'].apply(lambda x: x.replace('k', 'e-3'))\n",
        "apps_data_test = apps_data[apps_data['Size'] == 'Varies with device']\n",
        "apps_data_test\n",
        "apps_data = apps_data[apps_data['Size'] != 'Varies with device']\n",
        "apps_data['Size'] = apps_data['Size'].astype(float)"
      ],
      "execution_count": 304,
      "outputs": []
    },
    {
      "cell_type": "markdown",
      "metadata": {
        "id": "Gzc_FwU04QF_"
      },
      "source": [
        "last updated column which  contains the date on which the app was updated last time. It is in object type so we need to convert Last updated in date-time format."
      ]
    },
    {
      "cell_type": "code",
      "metadata": {
        "id": "oslTf3ee-4D4"
      },
      "source": [
        "date_convert = apps_data\n",
        "apps_data['Last Updated'] = pd.to_datetime(date_convert['Last Updated'], format='%B %d, %Y')\n",
        "\n"
      ],
      "execution_count": 305,
      "outputs": []
    },
    {
      "cell_type": "markdown",
      "metadata": {
        "id": "7PynorkJATNE"
      },
      "source": [
        "## **The dataset after cleaning**"
      ]
    },
    {
      "cell_type": "code",
      "metadata": {
        "id": "DStMnPml-4Ae",
        "colab": {
          "base_uri": "https://localhost:8080/",
          "height": 206
        },
        "outputId": "44787c17-9d58-4a1b-f797-ba9581cbdcd2"
      },
      "source": [
        "apps_data.head()"
      ],
      "execution_count": 306,
      "outputs": [
        {
          "output_type": "execute_result",
          "data": {
            "text/plain": [
              "                                                 App        Category  Rating  \\\n",
              "0     Photo Editor & Candy Camera & Grid & ScrapBook  ART_AND_DESIGN     4.1   \n",
              "1                                Coloring book moana  ART_AND_DESIGN     3.9   \n",
              "2  U Launcher Lite – FREE Live Cool Themes, Hide ...  ART_AND_DESIGN     4.7   \n",
              "3                              Sketch - Draw & Paint  ART_AND_DESIGN     4.5   \n",
              "4              Pixel Draw - Number Art Coloring Book  ART_AND_DESIGN     4.3   \n",
              "\n",
              "   Reviews  Size  Installs  Type  Price Content Rating  \\\n",
              "0      159  19.0     10000  Free    0.0       Everyone   \n",
              "1      967  14.0    500000  Free    0.0       Everyone   \n",
              "2    87510   8.7   5000000  Free    0.0       Everyone   \n",
              "3   215644  25.0  50000000  Free    0.0           Teen   \n",
              "4      967   2.8    100000  Free    0.0       Everyone   \n",
              "\n",
              "                      Genres Last Updated  \n",
              "0               Art & Design   2018-01-07  \n",
              "1  Art & Design;Pretend Play   2018-01-15  \n",
              "2               Art & Design   2018-08-01  \n",
              "3               Art & Design   2018-06-08  \n",
              "4    Art & Design;Creativity   2018-06-20  "
            ],
            "text/html": [
              "\n",
              "  <div id=\"df-71e1057f-0de4-4859-8df2-cd08c830dd26\" class=\"colab-df-container\">\n",
              "    <div>\n",
              "<style scoped>\n",
              "    .dataframe tbody tr th:only-of-type {\n",
              "        vertical-align: middle;\n",
              "    }\n",
              "\n",
              "    .dataframe tbody tr th {\n",
              "        vertical-align: top;\n",
              "    }\n",
              "\n",
              "    .dataframe thead th {\n",
              "        text-align: right;\n",
              "    }\n",
              "</style>\n",
              "<table border=\"1\" class=\"dataframe\">\n",
              "  <thead>\n",
              "    <tr style=\"text-align: right;\">\n",
              "      <th></th>\n",
              "      <th>App</th>\n",
              "      <th>Category</th>\n",
              "      <th>Rating</th>\n",
              "      <th>Reviews</th>\n",
              "      <th>Size</th>\n",
              "      <th>Installs</th>\n",
              "      <th>Type</th>\n",
              "      <th>Price</th>\n",
              "      <th>Content Rating</th>\n",
              "      <th>Genres</th>\n",
              "      <th>Last Updated</th>\n",
              "    </tr>\n",
              "  </thead>\n",
              "  <tbody>\n",
              "    <tr>\n",
              "      <th>0</th>\n",
              "      <td>Photo Editor &amp; Candy Camera &amp; Grid &amp; ScrapBook</td>\n",
              "      <td>ART_AND_DESIGN</td>\n",
              "      <td>4.1</td>\n",
              "      <td>159</td>\n",
              "      <td>19.0</td>\n",
              "      <td>10000</td>\n",
              "      <td>Free</td>\n",
              "      <td>0.0</td>\n",
              "      <td>Everyone</td>\n",
              "      <td>Art &amp; Design</td>\n",
              "      <td>2018-01-07</td>\n",
              "    </tr>\n",
              "    <tr>\n",
              "      <th>1</th>\n",
              "      <td>Coloring book moana</td>\n",
              "      <td>ART_AND_DESIGN</td>\n",
              "      <td>3.9</td>\n",
              "      <td>967</td>\n",
              "      <td>14.0</td>\n",
              "      <td>500000</td>\n",
              "      <td>Free</td>\n",
              "      <td>0.0</td>\n",
              "      <td>Everyone</td>\n",
              "      <td>Art &amp; Design;Pretend Play</td>\n",
              "      <td>2018-01-15</td>\n",
              "    </tr>\n",
              "    <tr>\n",
              "      <th>2</th>\n",
              "      <td>U Launcher Lite – FREE Live Cool Themes, Hide ...</td>\n",
              "      <td>ART_AND_DESIGN</td>\n",
              "      <td>4.7</td>\n",
              "      <td>87510</td>\n",
              "      <td>8.7</td>\n",
              "      <td>5000000</td>\n",
              "      <td>Free</td>\n",
              "      <td>0.0</td>\n",
              "      <td>Everyone</td>\n",
              "      <td>Art &amp; Design</td>\n",
              "      <td>2018-08-01</td>\n",
              "    </tr>\n",
              "    <tr>\n",
              "      <th>3</th>\n",
              "      <td>Sketch - Draw &amp; Paint</td>\n",
              "      <td>ART_AND_DESIGN</td>\n",
              "      <td>4.5</td>\n",
              "      <td>215644</td>\n",
              "      <td>25.0</td>\n",
              "      <td>50000000</td>\n",
              "      <td>Free</td>\n",
              "      <td>0.0</td>\n",
              "      <td>Teen</td>\n",
              "      <td>Art &amp; Design</td>\n",
              "      <td>2018-06-08</td>\n",
              "    </tr>\n",
              "    <tr>\n",
              "      <th>4</th>\n",
              "      <td>Pixel Draw - Number Art Coloring Book</td>\n",
              "      <td>ART_AND_DESIGN</td>\n",
              "      <td>4.3</td>\n",
              "      <td>967</td>\n",
              "      <td>2.8</td>\n",
              "      <td>100000</td>\n",
              "      <td>Free</td>\n",
              "      <td>0.0</td>\n",
              "      <td>Everyone</td>\n",
              "      <td>Art &amp; Design;Creativity</td>\n",
              "      <td>2018-06-20</td>\n",
              "    </tr>\n",
              "  </tbody>\n",
              "</table>\n",
              "</div>\n",
              "    <div class=\"colab-df-buttons\">\n",
              "\n",
              "  <div class=\"colab-df-container\">\n",
              "    <button class=\"colab-df-convert\" onclick=\"convertToInteractive('df-71e1057f-0de4-4859-8df2-cd08c830dd26')\"\n",
              "            title=\"Convert this dataframe to an interactive table.\"\n",
              "            style=\"display:none;\">\n",
              "\n",
              "  <svg xmlns=\"http://www.w3.org/2000/svg\" height=\"24px\" viewBox=\"0 -960 960 960\">\n",
              "    <path d=\"M120-120v-720h720v720H120Zm60-500h600v-160H180v160Zm220 220h160v-160H400v160Zm0 220h160v-160H400v160ZM180-400h160v-160H180v160Zm440 0h160v-160H620v160ZM180-180h160v-160H180v160Zm440 0h160v-160H620v160Z\"/>\n",
              "  </svg>\n",
              "    </button>\n",
              "\n",
              "  <style>\n",
              "    .colab-df-container {\n",
              "      display:flex;\n",
              "      gap: 12px;\n",
              "    }\n",
              "\n",
              "    .colab-df-convert {\n",
              "      background-color: #E8F0FE;\n",
              "      border: none;\n",
              "      border-radius: 50%;\n",
              "      cursor: pointer;\n",
              "      display: none;\n",
              "      fill: #1967D2;\n",
              "      height: 32px;\n",
              "      padding: 0 0 0 0;\n",
              "      width: 32px;\n",
              "    }\n",
              "\n",
              "    .colab-df-convert:hover {\n",
              "      background-color: #E2EBFA;\n",
              "      box-shadow: 0px 1px 2px rgba(60, 64, 67, 0.3), 0px 1px 3px 1px rgba(60, 64, 67, 0.15);\n",
              "      fill: #174EA6;\n",
              "    }\n",
              "\n",
              "    .colab-df-buttons div {\n",
              "      margin-bottom: 4px;\n",
              "    }\n",
              "\n",
              "    [theme=dark] .colab-df-convert {\n",
              "      background-color: #3B4455;\n",
              "      fill: #D2E3FC;\n",
              "    }\n",
              "\n",
              "    [theme=dark] .colab-df-convert:hover {\n",
              "      background-color: #434B5C;\n",
              "      box-shadow: 0px 1px 3px 1px rgba(0, 0, 0, 0.15);\n",
              "      filter: drop-shadow(0px 1px 2px rgba(0, 0, 0, 0.3));\n",
              "      fill: #FFFFFF;\n",
              "    }\n",
              "  </style>\n",
              "\n",
              "    <script>\n",
              "      const buttonEl =\n",
              "        document.querySelector('#df-71e1057f-0de4-4859-8df2-cd08c830dd26 button.colab-df-convert');\n",
              "      buttonEl.style.display =\n",
              "        google.colab.kernel.accessAllowed ? 'block' : 'none';\n",
              "\n",
              "      async function convertToInteractive(key) {\n",
              "        const element = document.querySelector('#df-71e1057f-0de4-4859-8df2-cd08c830dd26');\n",
              "        const dataTable =\n",
              "          await google.colab.kernel.invokeFunction('convertToInteractive',\n",
              "                                                    [key], {});\n",
              "        if (!dataTable) return;\n",
              "\n",
              "        const docLinkHtml = 'Like what you see? Visit the ' +\n",
              "          '<a target=\"_blank\" href=https://colab.research.google.com/notebooks/data_table.ipynb>data table notebook</a>'\n",
              "          + ' to learn more about interactive tables.';\n",
              "        element.innerHTML = '';\n",
              "        dataTable['output_type'] = 'display_data';\n",
              "        await google.colab.output.renderOutput(dataTable, element);\n",
              "        const docLink = document.createElement('div');\n",
              "        docLink.innerHTML = docLinkHtml;\n",
              "        element.appendChild(docLink);\n",
              "      }\n",
              "    </script>\n",
              "  </div>\n",
              "\n",
              "\n",
              "<div id=\"df-57e03518-6c1e-45ae-83e6-20e8de41f8fc\">\n",
              "  <button class=\"colab-df-quickchart\" onclick=\"quickchart('df-57e03518-6c1e-45ae-83e6-20e8de41f8fc')\"\n",
              "            title=\"Suggest charts\"\n",
              "            style=\"display:none;\">\n",
              "\n",
              "<svg xmlns=\"http://www.w3.org/2000/svg\" height=\"24px\"viewBox=\"0 0 24 24\"\n",
              "     width=\"24px\">\n",
              "    <g>\n",
              "        <path d=\"M19 3H5c-1.1 0-2 .9-2 2v14c0 1.1.9 2 2 2h14c1.1 0 2-.9 2-2V5c0-1.1-.9-2-2-2zM9 17H7v-7h2v7zm4 0h-2V7h2v10zm4 0h-2v-4h2v4z\"/>\n",
              "    </g>\n",
              "</svg>\n",
              "  </button>\n",
              "\n",
              "<style>\n",
              "  .colab-df-quickchart {\n",
              "      --bg-color: #E8F0FE;\n",
              "      --fill-color: #1967D2;\n",
              "      --hover-bg-color: #E2EBFA;\n",
              "      --hover-fill-color: #174EA6;\n",
              "      --disabled-fill-color: #AAA;\n",
              "      --disabled-bg-color: #DDD;\n",
              "  }\n",
              "\n",
              "  [theme=dark] .colab-df-quickchart {\n",
              "      --bg-color: #3B4455;\n",
              "      --fill-color: #D2E3FC;\n",
              "      --hover-bg-color: #434B5C;\n",
              "      --hover-fill-color: #FFFFFF;\n",
              "      --disabled-bg-color: #3B4455;\n",
              "      --disabled-fill-color: #666;\n",
              "  }\n",
              "\n",
              "  .colab-df-quickchart {\n",
              "    background-color: var(--bg-color);\n",
              "    border: none;\n",
              "    border-radius: 50%;\n",
              "    cursor: pointer;\n",
              "    display: none;\n",
              "    fill: var(--fill-color);\n",
              "    height: 32px;\n",
              "    padding: 0;\n",
              "    width: 32px;\n",
              "  }\n",
              "\n",
              "  .colab-df-quickchart:hover {\n",
              "    background-color: var(--hover-bg-color);\n",
              "    box-shadow: 0 1px 2px rgba(60, 64, 67, 0.3), 0 1px 3px 1px rgba(60, 64, 67, 0.15);\n",
              "    fill: var(--button-hover-fill-color);\n",
              "  }\n",
              "\n",
              "  .colab-df-quickchart-complete:disabled,\n",
              "  .colab-df-quickchart-complete:disabled:hover {\n",
              "    background-color: var(--disabled-bg-color);\n",
              "    fill: var(--disabled-fill-color);\n",
              "    box-shadow: none;\n",
              "  }\n",
              "\n",
              "  .colab-df-spinner {\n",
              "    border: 2px solid var(--fill-color);\n",
              "    border-color: transparent;\n",
              "    border-bottom-color: var(--fill-color);\n",
              "    animation:\n",
              "      spin 1s steps(1) infinite;\n",
              "  }\n",
              "\n",
              "  @keyframes spin {\n",
              "    0% {\n",
              "      border-color: transparent;\n",
              "      border-bottom-color: var(--fill-color);\n",
              "      border-left-color: var(--fill-color);\n",
              "    }\n",
              "    20% {\n",
              "      border-color: transparent;\n",
              "      border-left-color: var(--fill-color);\n",
              "      border-top-color: var(--fill-color);\n",
              "    }\n",
              "    30% {\n",
              "      border-color: transparent;\n",
              "      border-left-color: var(--fill-color);\n",
              "      border-top-color: var(--fill-color);\n",
              "      border-right-color: var(--fill-color);\n",
              "    }\n",
              "    40% {\n",
              "      border-color: transparent;\n",
              "      border-right-color: var(--fill-color);\n",
              "      border-top-color: var(--fill-color);\n",
              "    }\n",
              "    60% {\n",
              "      border-color: transparent;\n",
              "      border-right-color: var(--fill-color);\n",
              "    }\n",
              "    80% {\n",
              "      border-color: transparent;\n",
              "      border-right-color: var(--fill-color);\n",
              "      border-bottom-color: var(--fill-color);\n",
              "    }\n",
              "    90% {\n",
              "      border-color: transparent;\n",
              "      border-bottom-color: var(--fill-color);\n",
              "    }\n",
              "  }\n",
              "</style>\n",
              "\n",
              "  <script>\n",
              "    async function quickchart(key) {\n",
              "      const quickchartButtonEl =\n",
              "        document.querySelector('#' + key + ' button');\n",
              "      quickchartButtonEl.disabled = true;  // To prevent multiple clicks.\n",
              "      quickchartButtonEl.classList.add('colab-df-spinner');\n",
              "      try {\n",
              "        const charts = await google.colab.kernel.invokeFunction(\n",
              "            'suggestCharts', [key], {});\n",
              "      } catch (error) {\n",
              "        console.error('Error during call to suggestCharts:', error);\n",
              "      }\n",
              "      quickchartButtonEl.classList.remove('colab-df-spinner');\n",
              "      quickchartButtonEl.classList.add('colab-df-quickchart-complete');\n",
              "    }\n",
              "    (() => {\n",
              "      let quickchartButtonEl =\n",
              "        document.querySelector('#df-57e03518-6c1e-45ae-83e6-20e8de41f8fc button');\n",
              "      quickchartButtonEl.style.display =\n",
              "        google.colab.kernel.accessAllowed ? 'block' : 'none';\n",
              "    })();\n",
              "  </script>\n",
              "</div>\n",
              "\n",
              "    </div>\n",
              "  </div>\n"
            ],
            "application/vnd.google.colaboratory.intrinsic+json": {
              "type": "dataframe",
              "variable_name": "apps_data",
              "summary": "{\n  \"name\": \"apps_data\",\n  \"rows\": 8432,\n  \"fields\": [\n    {\n      \"column\": \"App\",\n      \"properties\": {\n        \"dtype\": \"string\",\n        \"num_unique_values\": 8432,\n        \"samples\": [\n          \"Lullaby Add-on for Sleep as Android\",\n          \"Bh Public School\",\n          \"Sandbox Art-Sandbox Color by Number Coloring Pages\"\n        ],\n        \"semantic_type\": \"\",\n        \"description\": \"\"\n      }\n    },\n    {\n      \"column\": \"Category\",\n      \"properties\": {\n        \"dtype\": \"category\",\n        \"num_unique_values\": 33,\n        \"samples\": [\n          \"NEWS_AND_MAGAZINES\",\n          \"LIBRARIES_AND_DEMO\",\n          \"PERSONALIZATION\"\n        ],\n        \"semantic_type\": \"\",\n        \"description\": \"\"\n      }\n    },\n    {\n      \"column\": \"Rating\",\n      \"properties\": {\n        \"dtype\": \"number\",\n        \"std\": 0.5130696070598514,\n        \"min\": 1.0,\n        \"max\": 5.0,\n        \"num_unique_values\": 39,\n        \"samples\": [\n          2.4,\n          1.4,\n          4.3\n        ],\n        \"semantic_type\": \"\",\n        \"description\": \"\"\n      }\n    },\n    {\n      \"column\": \"Reviews\",\n      \"properties\": {\n        \"dtype\": \"number\",\n        \"std\": 936344,\n        \"min\": 0,\n        \"max\": 44891723,\n        \"num_unique_values\": 4304,\n        \"samples\": [\n          72065,\n          191,\n          7573\n        ],\n        \"semantic_type\": \"\",\n        \"description\": \"\"\n      }\n    },\n    {\n      \"column\": \"Size\",\n      \"properties\": {\n        \"dtype\": \"number\",\n        \"std\": 21.827542435181137,\n        \"min\": 0.0085,\n        \"max\": 100.0,\n        \"num_unique_values\": 459,\n        \"samples\": [\n          63.0,\n          15.0,\n          0.98\n        ],\n        \"semantic_type\": \"\",\n        \"description\": \"\"\n      }\n    },\n    {\n      \"column\": \"Installs\",\n      \"properties\": {\n        \"dtype\": \"number\",\n        \"std\": 24829397,\n        \"min\": 0,\n        \"max\": 1000000000,\n        \"num_unique_values\": 20,\n        \"samples\": [\n          10000,\n          5,\n          10\n        ],\n        \"semantic_type\": \"\",\n        \"description\": \"\"\n      }\n    },\n    {\n      \"column\": \"Type\",\n      \"properties\": {\n        \"dtype\": \"category\",\n        \"num_unique_values\": 2,\n        \"samples\": [\n          \"Paid\",\n          \"Free\"\n        ],\n        \"semantic_type\": \"\",\n        \"description\": \"\"\n      }\n    },\n    {\n      \"column\": \"Price\",\n      \"properties\": {\n        \"dtype\": \"number\",\n        \"std\": 18.028684868724934,\n        \"min\": 0.0,\n        \"max\": 400.0,\n        \"num_unique_values\": 87,\n        \"samples\": [\n          2.9,\n          0.0\n        ],\n        \"semantic_type\": \"\",\n        \"description\": \"\"\n      }\n    },\n    {\n      \"column\": \"Content Rating\",\n      \"properties\": {\n        \"dtype\": \"category\",\n        \"num_unique_values\": 6,\n        \"samples\": [\n          \"Everyone\",\n          \"Teen\"\n        ],\n        \"semantic_type\": \"\",\n        \"description\": \"\"\n      }\n    },\n    {\n      \"column\": \"Genres\",\n      \"properties\": {\n        \"dtype\": \"category\",\n        \"num_unique_values\": 115,\n        \"samples\": [\n          \"Medical\",\n          \"Auto & Vehicles\"\n        ],\n        \"semantic_type\": \"\",\n        \"description\": \"\"\n      }\n    },\n    {\n      \"column\": \"Last Updated\",\n      \"properties\": {\n        \"dtype\": \"date\",\n        \"min\": \"2010-05-21 00:00:00\",\n        \"max\": \"2018-08-08 00:00:00\",\n        \"num_unique_values\": 1358,\n        \"samples\": [\n          \"2018-07-27 00:00:00\",\n          \"2015-01-14 00:00:00\"\n        ],\n        \"semantic_type\": \"\",\n        \"description\": \"\"\n      }\n    }\n  ]\n}"
            }
          },
          "metadata": {},
          "execution_count": 306
        }
      ]
    },
    {
      "cell_type": "code",
      "metadata": {
        "colab": {
          "base_uri": "https://localhost:8080/"
        },
        "id": "yyDStOVjA4EN",
        "outputId": "c33b8009-97ea-43dd-80f5-1aec1e98ad2c"
      },
      "source": [
        "apps_data.info()"
      ],
      "execution_count": 307,
      "outputs": [
        {
          "output_type": "stream",
          "name": "stdout",
          "text": [
            "<class 'pandas.core.frame.DataFrame'>\n",
            "Index: 8432 entries, 0 to 10840\n",
            "Data columns (total 11 columns):\n",
            " #   Column          Non-Null Count  Dtype         \n",
            "---  ------          --------------  -----         \n",
            " 0   App             8432 non-null   object        \n",
            " 1   Category        8432 non-null   object        \n",
            " 2   Rating          8432 non-null   float64       \n",
            " 3   Reviews         8432 non-null   int64         \n",
            " 4   Size            8432 non-null   float64       \n",
            " 5   Installs        8432 non-null   int64         \n",
            " 6   Type            8432 non-null   object        \n",
            " 7   Price           8432 non-null   float64       \n",
            " 8   Content Rating  8432 non-null   object        \n",
            " 9   Genres          8432 non-null   object        \n",
            " 10  Last Updated    8432 non-null   datetime64[ns]\n",
            "dtypes: datetime64[ns](1), float64(3), int64(2), object(5)\n",
            "memory usage: 790.5+ KB\n"
          ]
        }
      ]
    },
    {
      "cell_type": "code",
      "metadata": {
        "colab": {
          "base_uri": "https://localhost:8080/",
          "height": 300
        },
        "id": "F4sBxfBnUh3R",
        "outputId": "61902282-52a4-4a1c-94bf-52b32644c22b"
      },
      "source": [
        "apps_data.describe()"
      ],
      "execution_count": 308,
      "outputs": [
        {
          "output_type": "execute_result",
          "data": {
            "text/plain": [
              "            Rating       Reviews         Size      Installs        Price  \\\n",
              "count  8432.000000  8.432000e+03  8432.000000  8.432000e+03  8432.000000   \n",
              "mean      4.183847  1.206553e+05    20.395289  3.724212e+06     1.225972   \n",
              "min       1.000000  0.000000e+00     0.008500  0.000000e+00     0.000000   \n",
              "25%       4.000000  1.700000e+01     4.600000  1.000000e+03     0.000000   \n",
              "50%       4.300000  4.755000e+02    12.000000  5.000000e+04     0.000000   \n",
              "75%       4.500000  1.566725e+04    28.000000  1.000000e+06     0.000000   \n",
              "max       5.000000  4.489172e+07   100.000000  1.000000e+09   400.000000   \n",
              "std       0.513070  9.363450e+05    21.827542  2.482940e+07    18.028685   \n",
              "\n",
              "                        Last Updated  \n",
              "count                           8432  \n",
              "mean   2017-10-09 02:12:21.176470528  \n",
              "min              2010-05-21 00:00:00  \n",
              "25%              2017-06-21 00:00:00  \n",
              "50%              2018-04-12 00:00:00  \n",
              "75%              2018-07-11 00:00:00  \n",
              "max              2018-08-08 00:00:00  \n",
              "std                              NaN  "
            ],
            "text/html": [
              "\n",
              "  <div id=\"df-fad656f3-944b-4321-b10e-581e5ac9f913\" class=\"colab-df-container\">\n",
              "    <div>\n",
              "<style scoped>\n",
              "    .dataframe tbody tr th:only-of-type {\n",
              "        vertical-align: middle;\n",
              "    }\n",
              "\n",
              "    .dataframe tbody tr th {\n",
              "        vertical-align: top;\n",
              "    }\n",
              "\n",
              "    .dataframe thead th {\n",
              "        text-align: right;\n",
              "    }\n",
              "</style>\n",
              "<table border=\"1\" class=\"dataframe\">\n",
              "  <thead>\n",
              "    <tr style=\"text-align: right;\">\n",
              "      <th></th>\n",
              "      <th>Rating</th>\n",
              "      <th>Reviews</th>\n",
              "      <th>Size</th>\n",
              "      <th>Installs</th>\n",
              "      <th>Price</th>\n",
              "      <th>Last Updated</th>\n",
              "    </tr>\n",
              "  </thead>\n",
              "  <tbody>\n",
              "    <tr>\n",
              "      <th>count</th>\n",
              "      <td>8432.000000</td>\n",
              "      <td>8.432000e+03</td>\n",
              "      <td>8432.000000</td>\n",
              "      <td>8.432000e+03</td>\n",
              "      <td>8432.000000</td>\n",
              "      <td>8432</td>\n",
              "    </tr>\n",
              "    <tr>\n",
              "      <th>mean</th>\n",
              "      <td>4.183847</td>\n",
              "      <td>1.206553e+05</td>\n",
              "      <td>20.395289</td>\n",
              "      <td>3.724212e+06</td>\n",
              "      <td>1.225972</td>\n",
              "      <td>2017-10-09 02:12:21.176470528</td>\n",
              "    </tr>\n",
              "    <tr>\n",
              "      <th>min</th>\n",
              "      <td>1.000000</td>\n",
              "      <td>0.000000e+00</td>\n",
              "      <td>0.008500</td>\n",
              "      <td>0.000000e+00</td>\n",
              "      <td>0.000000</td>\n",
              "      <td>2010-05-21 00:00:00</td>\n",
              "    </tr>\n",
              "    <tr>\n",
              "      <th>25%</th>\n",
              "      <td>4.000000</td>\n",
              "      <td>1.700000e+01</td>\n",
              "      <td>4.600000</td>\n",
              "      <td>1.000000e+03</td>\n",
              "      <td>0.000000</td>\n",
              "      <td>2017-06-21 00:00:00</td>\n",
              "    </tr>\n",
              "    <tr>\n",
              "      <th>50%</th>\n",
              "      <td>4.300000</td>\n",
              "      <td>4.755000e+02</td>\n",
              "      <td>12.000000</td>\n",
              "      <td>5.000000e+04</td>\n",
              "      <td>0.000000</td>\n",
              "      <td>2018-04-12 00:00:00</td>\n",
              "    </tr>\n",
              "    <tr>\n",
              "      <th>75%</th>\n",
              "      <td>4.500000</td>\n",
              "      <td>1.566725e+04</td>\n",
              "      <td>28.000000</td>\n",
              "      <td>1.000000e+06</td>\n",
              "      <td>0.000000</td>\n",
              "      <td>2018-07-11 00:00:00</td>\n",
              "    </tr>\n",
              "    <tr>\n",
              "      <th>max</th>\n",
              "      <td>5.000000</td>\n",
              "      <td>4.489172e+07</td>\n",
              "      <td>100.000000</td>\n",
              "      <td>1.000000e+09</td>\n",
              "      <td>400.000000</td>\n",
              "      <td>2018-08-08 00:00:00</td>\n",
              "    </tr>\n",
              "    <tr>\n",
              "      <th>std</th>\n",
              "      <td>0.513070</td>\n",
              "      <td>9.363450e+05</td>\n",
              "      <td>21.827542</td>\n",
              "      <td>2.482940e+07</td>\n",
              "      <td>18.028685</td>\n",
              "      <td>NaN</td>\n",
              "    </tr>\n",
              "  </tbody>\n",
              "</table>\n",
              "</div>\n",
              "    <div class=\"colab-df-buttons\">\n",
              "\n",
              "  <div class=\"colab-df-container\">\n",
              "    <button class=\"colab-df-convert\" onclick=\"convertToInteractive('df-fad656f3-944b-4321-b10e-581e5ac9f913')\"\n",
              "            title=\"Convert this dataframe to an interactive table.\"\n",
              "            style=\"display:none;\">\n",
              "\n",
              "  <svg xmlns=\"http://www.w3.org/2000/svg\" height=\"24px\" viewBox=\"0 -960 960 960\">\n",
              "    <path d=\"M120-120v-720h720v720H120Zm60-500h600v-160H180v160Zm220 220h160v-160H400v160Zm0 220h160v-160H400v160ZM180-400h160v-160H180v160Zm440 0h160v-160H620v160ZM180-180h160v-160H180v160Zm440 0h160v-160H620v160Z\"/>\n",
              "  </svg>\n",
              "    </button>\n",
              "\n",
              "  <style>\n",
              "    .colab-df-container {\n",
              "      display:flex;\n",
              "      gap: 12px;\n",
              "    }\n",
              "\n",
              "    .colab-df-convert {\n",
              "      background-color: #E8F0FE;\n",
              "      border: none;\n",
              "      border-radius: 50%;\n",
              "      cursor: pointer;\n",
              "      display: none;\n",
              "      fill: #1967D2;\n",
              "      height: 32px;\n",
              "      padding: 0 0 0 0;\n",
              "      width: 32px;\n",
              "    }\n",
              "\n",
              "    .colab-df-convert:hover {\n",
              "      background-color: #E2EBFA;\n",
              "      box-shadow: 0px 1px 2px rgba(60, 64, 67, 0.3), 0px 1px 3px 1px rgba(60, 64, 67, 0.15);\n",
              "      fill: #174EA6;\n",
              "    }\n",
              "\n",
              "    .colab-df-buttons div {\n",
              "      margin-bottom: 4px;\n",
              "    }\n",
              "\n",
              "    [theme=dark] .colab-df-convert {\n",
              "      background-color: #3B4455;\n",
              "      fill: #D2E3FC;\n",
              "    }\n",
              "\n",
              "    [theme=dark] .colab-df-convert:hover {\n",
              "      background-color: #434B5C;\n",
              "      box-shadow: 0px 1px 3px 1px rgba(0, 0, 0, 0.15);\n",
              "      filter: drop-shadow(0px 1px 2px rgba(0, 0, 0, 0.3));\n",
              "      fill: #FFFFFF;\n",
              "    }\n",
              "  </style>\n",
              "\n",
              "    <script>\n",
              "      const buttonEl =\n",
              "        document.querySelector('#df-fad656f3-944b-4321-b10e-581e5ac9f913 button.colab-df-convert');\n",
              "      buttonEl.style.display =\n",
              "        google.colab.kernel.accessAllowed ? 'block' : 'none';\n",
              "\n",
              "      async function convertToInteractive(key) {\n",
              "        const element = document.querySelector('#df-fad656f3-944b-4321-b10e-581e5ac9f913');\n",
              "        const dataTable =\n",
              "          await google.colab.kernel.invokeFunction('convertToInteractive',\n",
              "                                                    [key], {});\n",
              "        if (!dataTable) return;\n",
              "\n",
              "        const docLinkHtml = 'Like what you see? Visit the ' +\n",
              "          '<a target=\"_blank\" href=https://colab.research.google.com/notebooks/data_table.ipynb>data table notebook</a>'\n",
              "          + ' to learn more about interactive tables.';\n",
              "        element.innerHTML = '';\n",
              "        dataTable['output_type'] = 'display_data';\n",
              "        await google.colab.output.renderOutput(dataTable, element);\n",
              "        const docLink = document.createElement('div');\n",
              "        docLink.innerHTML = docLinkHtml;\n",
              "        element.appendChild(docLink);\n",
              "      }\n",
              "    </script>\n",
              "  </div>\n",
              "\n",
              "\n",
              "<div id=\"df-0c3062e8-d18d-4e62-b3ce-41d54989e934\">\n",
              "  <button class=\"colab-df-quickchart\" onclick=\"quickchart('df-0c3062e8-d18d-4e62-b3ce-41d54989e934')\"\n",
              "            title=\"Suggest charts\"\n",
              "            style=\"display:none;\">\n",
              "\n",
              "<svg xmlns=\"http://www.w3.org/2000/svg\" height=\"24px\"viewBox=\"0 0 24 24\"\n",
              "     width=\"24px\">\n",
              "    <g>\n",
              "        <path d=\"M19 3H5c-1.1 0-2 .9-2 2v14c0 1.1.9 2 2 2h14c1.1 0 2-.9 2-2V5c0-1.1-.9-2-2-2zM9 17H7v-7h2v7zm4 0h-2V7h2v10zm4 0h-2v-4h2v4z\"/>\n",
              "    </g>\n",
              "</svg>\n",
              "  </button>\n",
              "\n",
              "<style>\n",
              "  .colab-df-quickchart {\n",
              "      --bg-color: #E8F0FE;\n",
              "      --fill-color: #1967D2;\n",
              "      --hover-bg-color: #E2EBFA;\n",
              "      --hover-fill-color: #174EA6;\n",
              "      --disabled-fill-color: #AAA;\n",
              "      --disabled-bg-color: #DDD;\n",
              "  }\n",
              "\n",
              "  [theme=dark] .colab-df-quickchart {\n",
              "      --bg-color: #3B4455;\n",
              "      --fill-color: #D2E3FC;\n",
              "      --hover-bg-color: #434B5C;\n",
              "      --hover-fill-color: #FFFFFF;\n",
              "      --disabled-bg-color: #3B4455;\n",
              "      --disabled-fill-color: #666;\n",
              "  }\n",
              "\n",
              "  .colab-df-quickchart {\n",
              "    background-color: var(--bg-color);\n",
              "    border: none;\n",
              "    border-radius: 50%;\n",
              "    cursor: pointer;\n",
              "    display: none;\n",
              "    fill: var(--fill-color);\n",
              "    height: 32px;\n",
              "    padding: 0;\n",
              "    width: 32px;\n",
              "  }\n",
              "\n",
              "  .colab-df-quickchart:hover {\n",
              "    background-color: var(--hover-bg-color);\n",
              "    box-shadow: 0 1px 2px rgba(60, 64, 67, 0.3), 0 1px 3px 1px rgba(60, 64, 67, 0.15);\n",
              "    fill: var(--button-hover-fill-color);\n",
              "  }\n",
              "\n",
              "  .colab-df-quickchart-complete:disabled,\n",
              "  .colab-df-quickchart-complete:disabled:hover {\n",
              "    background-color: var(--disabled-bg-color);\n",
              "    fill: var(--disabled-fill-color);\n",
              "    box-shadow: none;\n",
              "  }\n",
              "\n",
              "  .colab-df-spinner {\n",
              "    border: 2px solid var(--fill-color);\n",
              "    border-color: transparent;\n",
              "    border-bottom-color: var(--fill-color);\n",
              "    animation:\n",
              "      spin 1s steps(1) infinite;\n",
              "  }\n",
              "\n",
              "  @keyframes spin {\n",
              "    0% {\n",
              "      border-color: transparent;\n",
              "      border-bottom-color: var(--fill-color);\n",
              "      border-left-color: var(--fill-color);\n",
              "    }\n",
              "    20% {\n",
              "      border-color: transparent;\n",
              "      border-left-color: var(--fill-color);\n",
              "      border-top-color: var(--fill-color);\n",
              "    }\n",
              "    30% {\n",
              "      border-color: transparent;\n",
              "      border-left-color: var(--fill-color);\n",
              "      border-top-color: var(--fill-color);\n",
              "      border-right-color: var(--fill-color);\n",
              "    }\n",
              "    40% {\n",
              "      border-color: transparent;\n",
              "      border-right-color: var(--fill-color);\n",
              "      border-top-color: var(--fill-color);\n",
              "    }\n",
              "    60% {\n",
              "      border-color: transparent;\n",
              "      border-right-color: var(--fill-color);\n",
              "    }\n",
              "    80% {\n",
              "      border-color: transparent;\n",
              "      border-right-color: var(--fill-color);\n",
              "      border-bottom-color: var(--fill-color);\n",
              "    }\n",
              "    90% {\n",
              "      border-color: transparent;\n",
              "      border-bottom-color: var(--fill-color);\n",
              "    }\n",
              "  }\n",
              "</style>\n",
              "\n",
              "  <script>\n",
              "    async function quickchart(key) {\n",
              "      const quickchartButtonEl =\n",
              "        document.querySelector('#' + key + ' button');\n",
              "      quickchartButtonEl.disabled = true;  // To prevent multiple clicks.\n",
              "      quickchartButtonEl.classList.add('colab-df-spinner');\n",
              "      try {\n",
              "        const charts = await google.colab.kernel.invokeFunction(\n",
              "            'suggestCharts', [key], {});\n",
              "      } catch (error) {\n",
              "        console.error('Error during call to suggestCharts:', error);\n",
              "      }\n",
              "      quickchartButtonEl.classList.remove('colab-df-spinner');\n",
              "      quickchartButtonEl.classList.add('colab-df-quickchart-complete');\n",
              "    }\n",
              "    (() => {\n",
              "      let quickchartButtonEl =\n",
              "        document.querySelector('#df-0c3062e8-d18d-4e62-b3ce-41d54989e934 button');\n",
              "      quickchartButtonEl.style.display =\n",
              "        google.colab.kernel.accessAllowed ? 'block' : 'none';\n",
              "    })();\n",
              "  </script>\n",
              "</div>\n",
              "\n",
              "    </div>\n",
              "  </div>\n"
            ],
            "application/vnd.google.colaboratory.intrinsic+json": {
              "type": "dataframe",
              "summary": "{\n  \"name\": \"apps_data\",\n  \"rows\": 8,\n  \"fields\": [\n    {\n      \"column\": \"Rating\",\n      \"properties\": {\n        \"dtype\": \"number\",\n        \"std\": 2979.9758866222114,\n        \"min\": 0.5130696070598514,\n        \"max\": 8432.0,\n        \"num_unique_values\": 8,\n        \"samples\": [\n          4.18384724857685,\n          4.5,\n          8432.0\n        ],\n        \"semantic_type\": \"\",\n        \"description\": \"\"\n      }\n    },\n    {\n      \"column\": \"Reviews\",\n      \"properties\": {\n        \"dtype\": \"number\",\n        \"std\": 15820263.671650268,\n        \"min\": 0.0,\n        \"max\": 44891723.0,\n        \"num_unique_values\": 8,\n        \"samples\": [\n          120655.32175047438,\n          15667.25,\n          8432.0\n        ],\n        \"semantic_type\": \"\",\n        \"description\": \"\"\n      }\n    },\n    {\n      \"column\": \"Size\",\n      \"properties\": {\n        \"dtype\": \"number\",\n        \"std\": 2971.890544967329,\n        \"min\": 0.0085,\n        \"max\": 8432.0,\n        \"num_unique_values\": 8,\n        \"samples\": [\n          20.395289314516127,\n          28.0,\n          8432.0\n        ],\n        \"semantic_type\": \"\",\n        \"description\": \"\"\n      }\n    },\n    {\n      \"column\": \"Installs\",\n      \"properties\": {\n        \"dtype\": \"number\",\n        \"std\": 352160372.2163835,\n        \"min\": 0.0,\n        \"max\": 1000000000.0,\n        \"num_unique_values\": 8,\n        \"samples\": [\n          3724212.227703985,\n          1000000.0,\n          8432.0\n        ],\n        \"semantic_type\": \"\",\n        \"description\": \"\"\n      }\n    },\n    {\n      \"column\": \"Price\",\n      \"properties\": {\n        \"dtype\": \"number\",\n        \"std\": 2963.247781701672,\n        \"min\": 0.0,\n        \"max\": 8432.0,\n        \"num_unique_values\": 5,\n        \"samples\": [\n          1.2259724857685008,\n          18.028684868724934,\n          0.0\n        ],\n        \"semantic_type\": \"\",\n        \"description\": \"\"\n      }\n    },\n    {\n      \"column\": \"Last Updated\",\n      \"properties\": {\n        \"dtype\": \"date\",\n        \"min\": \"1970-01-01 00:00:00.000008432\",\n        \"max\": \"2018-08-08 00:00:00\",\n        \"num_unique_values\": 7,\n        \"samples\": [\n          \"8432\",\n          \"2017-10-09 02:12:21.176470528\",\n          \"2018-07-11 00:00:00\"\n        ],\n        \"semantic_type\": \"\",\n        \"description\": \"\"\n      }\n    }\n  ]\n}"
            }
          },
          "metadata": {},
          "execution_count": 308
        }
      ]
    },
    {
      "cell_type": "markdown",
      "metadata": {
        "id": "6u10jOWLad9b"
      },
      "source": [
        "**Observation after cleaning the dataset:**\n",
        "\n",
        "\n",
        "*  Left with dataset of shape 8432 rows and 11 columns.\n",
        "*  Now, there are no missing values.\n",
        "*  Columns have their respective data types.\n",
        "*  Rating for apps given by users is out of 5 having average of 4.18 rating.\n",
        "*  Max size of an app is 100 MB.\n",
        "*  There are less apps which are paid.\n",
        "*  Maximum price app having is $400.\n"
      ]
    },
    {
      "cell_type": "markdown",
      "source": [
        "# **Data Vizualization, Storytelling & Experimenting with charts : Understand the relationships between variables**"
      ],
      "metadata": {
        "id": "RkGypMj0m8Qh"
      }
    },
    {
      "cell_type": "markdown",
      "metadata": {
        "id": "HnvdbTkve7iK"
      },
      "source": [
        "## **Correlation between columns**\n"
      ]
    },
    {
      "cell_type": "code",
      "metadata": {
        "id": "jnRuLbMcfXMg"
      },
      "source": [
        "cp = apps_data[['Rating','Reviews','Size','Installs','Price']]"
      ],
      "execution_count": 309,
      "outputs": []
    },
    {
      "cell_type": "code",
      "metadata": {
        "colab": {
          "base_uri": "https://localhost:8080/",
          "height": 468
        },
        "id": "te4jq-4LhRdI",
        "outputId": "11bc8ef1-c4b0-45b1-cf2c-980baf3952fe"
      },
      "source": [
        "# Calculate correlation between each pair of variable\n",
        "corr_matrix=cp.corr()\n",
        "\n",
        "#heatmap plot\n",
        "fig, ax = plt.subplots(figsize=(12,5))\n",
        "sns.heatmap(corr_matrix, annot=True, cmap=\"Blues\", annot_kws={\"size\": 12})\n",
        "plt.title(\"Correlation Plot\")\n",
        "plt.show()"
      ],
      "execution_count": 310,
      "outputs": [
        {
          "output_type": "display_data",
          "data": {
            "text/plain": [
              "<Figure size 1200x500 with 2 Axes>"
            ],
            "image/png": "[encoded data removed]"
          },
          "metadata": {}
        }
      ]
    },
    {
      "cell_type": "markdown",
      "source": [
        "* Found stong relation between Installs and Reviews.\n",
        "* Price have negative relation with all."
      ],
      "metadata": {
        "id": "vY0Mjcf6D7HT"
      }
    },
    {
      "cell_type": "markdown",
      "metadata": {
        "id": "c_x7xrQzbBjV"
      },
      "source": [
        "## **Categories and Age Group**"
      ]
    },
    {
      "cell_type": "code",
      "metadata": {
        "id": "XLH5HmItjGC6"
      },
      "source": [
        "#Count of apps per Category and Content Rating\n",
        "cp2 = apps_data.groupby(['Category','Content Rating']).count().reset_index()\n",
        "cp2 = cp2[['Category','Content Rating','App']]\n",
        "cp2 = cp2.pivot(columns='Content Rating', index='Category', values='App')"
      ],
      "execution_count": 311,
      "outputs": []
    },
    {
      "cell_type": "code",
      "metadata": {
        "colab": {
          "base_uri": "https://localhost:8080/",
          "height": 785
        },
        "id": "wKEgQFCLRO0j",
        "outputId": "a8bec3e2-2977-4259-a69b-e74d2b76bc08"
      },
      "source": [
        "#Bar chart plot\n",
        "colors = ['blue', 'green', 'orange','pink','red','magenta']\n",
        "cp2.plot(kind='bar', stacked= True, color= colors, figsize= (19,7))\n",
        "plt.ylabel(\"Count of App per category\")\n",
        "plt.xlabel(\"Category fo Apps\")\n",
        "plt.title(\"App Categories and its target age groups\")\n",
        "plt.show()"
      ],
      "execution_count": 312,
      "outputs": [
        {
          "output_type": "display_data",
          "data": {
            "text/plain": [
              "<Figure size 1900x700 with 1 Axes>"
            ],
            "image/png": "[encoded data removed]"
          },
          "metadata": {}
        }
      ]
    },
    {
      "cell_type": "markdown",
      "source": [
        "* Family Category has highest no of Apps.\n",
        "* But gaming is more or equally popular among all.\n"
      ],
      "metadata": {
        "id": "sstw0z9qEUnS"
      }
    },
    {
      "cell_type": "markdown",
      "metadata": {
        "id": "UKX40XpyY95M"
      },
      "source": [
        "## **Rating and price relation**"
      ]
    },
    {
      "cell_type": "code",
      "metadata": {
        "colab": {
          "base_uri": "https://localhost:8080/",
          "height": 641
        },
        "id": "fdynHp-34cf8",
        "outputId": "5a8bd81a-94d5-4701-afee-59a29c54c3a5"
      },
      "source": [
        "#Scatterplot Price/Rating\n",
        "sns.set_style(\"ticks\")\n",
        "fig, ax = plt.subplots(figsize=(12,7))\n",
        "\n",
        "sns.regplot(x=\"Price\", y=\"Rating\", data=apps_data, line_kws={\"color\":\"y\",\"alpha\":0.7,\"lw\":7})\n",
        "plt.title(\"Price of App VS Rating of App\")\n",
        "\n",
        "plt.show()"
      ],
      "execution_count": 313,
      "outputs": [
        {
          "output_type": "display_data",
          "data": {
            "text/plain": [
              "<Figure size 1200x700 with 1 Axes>"
            ],
            "image/png": "[encoded data removed]"
          },
          "metadata": {}
        }
      ]
    },
    {
      "cell_type": "markdown",
      "source": [
        "* Price is negativly impacting the rating.\n",
        "* Most apps are free or costs less than $100."
      ],
      "metadata": {
        "id": "mZJ8c2YCEoKL"
      }
    },
    {
      "cell_type": "markdown",
      "metadata": {
        "id": "3iQQLZ0dftsF"
      },
      "source": [
        "## **Size of an app and Number of downloads**\n",
        "\n"
      ]
    },
    {
      "cell_type": "code",
      "metadata": {
        "colab": {
          "base_uri": "https://localhost:8080/",
          "height": 711
        },
        "id": "pQ0ELVLe6_0f",
        "outputId": "13d598d4-612b-41b8-eb3c-1172b6ea276a"
      },
      "source": [
        "# Scatter Plot Size/Installs\n",
        "fig, ax = plt.subplots(figsize=(12,8))\n",
        "sns.scatterplot(x=\"Size\", y=\"Installs\",color= \"r\", data=apps_data)\n",
        "plt.show()"
      ],
      "execution_count": 314,
      "outputs": [
        {
          "output_type": "display_data",
          "data": {
            "text/plain": [
              "<Figure size 1200x800 with 1 Axes>"
            ],
            "image/png": "[encoded data removed]"
          },
          "metadata": {}
        }
      ]
    },
    {
      "cell_type": "markdown",
      "metadata": {
        "id": "Adz8GSb0WvrU"
      },
      "source": [
        "Range of Installs si very hight i.e 0 to 1,000,000,000+ but range of size is just 0 to 100. So we have to take log transformation of Installs(as it is hightly skewd) and difficult to understand. So, to give importance to both Size, and Installs, we need feature scaling.\n",
        "\n",
        "As Log Transform is one of the most popular Transformation techniques. It is primarily used to convert a skewed distribution to a normal distribution or a less-skewed distribution.  we can take the log of the values in a column and use these values as the column instead. This transformation reduces the impact of both too-low as well as too-high values."
      ]
    },
    {
      "cell_type": "code",
      "metadata": {
        "colab": {
          "base_uri": "https://localhost:8080/",
          "height": 696
        },
        "id": "0oBnXM3047jm",
        "outputId": "17155ca3-053a-470c-ce9e-171c093af04d"
      },
      "source": [
        "\n",
        "cp3 = apps_data[['Size','Installs']]\n",
        "cp3['log of installs'] = np.log(cp3['Installs'])\n",
        "\n",
        "# Scatter Plot\n",
        "fig, ax = plt.subplots(figsize=(14,8))\n",
        "sns.scatterplot(x=\"Size\", y=\"log of installs\",color = \"red\", data=cp3)\n",
        "plt.show()"
      ],
      "execution_count": 315,
      "outputs": [
        {
          "output_type": "display_data",
          "data": {
            "text/plain": [
              "<Figure size 1400x800 with 1 Axes>"
            ],
            "image/png": "[encoded data removed]"
          },
          "metadata": {}
        }
      ]
    },
    {
      "cell_type": "markdown",
      "source": [
        "* We can easily see most Installed apps are less than 20 MB is size."
      ],
      "metadata": {
        "id": "yqMic8AtE4N2"
      }
    },
    {
      "cell_type": "markdown",
      "metadata": {
        "id": "Cz08h5KtBrzW"
      },
      "source": [
        "## **Rating : Paid vs Free**"
      ]
    },
    {
      "cell_type": "code",
      "metadata": {
        "id": "WEhhNfbXUJKW"
      },
      "source": [
        "free_rating = apps_data[apps_data['Type'] == \"Free\"]['Rating']\n",
        "paid_rating = apps_data[apps_data['Type'] == \"Paid\"]['Rating']\n"
      ],
      "execution_count": 316,
      "outputs": []
    },
    {
      "cell_type": "code",
      "metadata": {
        "colab": {
          "base_uri": "https://localhost:8080/",
          "height": 542
        },
        "id": "pQJ5rfhnbZ0H",
        "outputId": "44bc8853-3e4d-4043-b3e3-a4e8afe7c69c"
      },
      "source": [
        "meanx = free_rating.mean()\n",
        "meany = paid_rating.mean()\n",
        "\n",
        "# Distribution plot with\n",
        "fig, ax = plt.subplots(figsize=(10,6))\n",
        "ax = sns.kdeplot(free_rating, shade=True, color='red')\n",
        "ax = sns.kdeplot(paid_rating, shade=True, color='green')\n",
        "\n",
        "# Average lines Plot\n",
        "plt.axvline(x = meanx, color = 'red', label = 'free')\n",
        "plt.axvline(x = meany, color = 'green', label = 'paid')\n",
        "\n",
        "# legend\n",
        "plt.legend(loc = 'upper left')\n",
        "\n",
        "plt.show()"
      ],
      "execution_count": 317,
      "outputs": [
        {
          "output_type": "display_data",
          "data": {
            "text/plain": [
              "<Figure size 1000x600 with 1 Axes>"
            ],
            "image/png": "[encoded data removed]"
          },
          "metadata": {}
        }
      ]
    },
    {
      "cell_type": "code",
      "metadata": {
        "colab": {
          "base_uri": "https://localhost:8080/"
        },
        "id": "6HApW4bOVYz4",
        "outputId": "d2fa99ab-69bb-487f-b02c-3354044e3d4d"
      },
      "source": [
        "# printing the averages\n",
        "print(f\"The average rating free apps get is {meanx}\")\n",
        "print(f\"The average rating paid apps get is {meany}\")"
      ],
      "execution_count": 318,
      "outputs": [
        {
          "output_type": "stream",
          "name": "stdout",
          "text": [
            "The average rating free apps get is 4.177449335226539\n",
            "The average rating paid apps get is 4.2562043795620434\n"
          ]
        }
      ]
    },
    {
      "cell_type": "markdown",
      "source": [
        "* Average rating of paid apps are higher than free apps"
      ],
      "metadata": {
        "id": "_4DtFdjxFbW6"
      }
    },
    {
      "cell_type": "markdown",
      "metadata": {
        "id": "08stMtbcES2s"
      },
      "source": [
        "## **Sentiment Analysis**\n",
        "\n",
        "For further analysis i.e sentiment analysis we need more data (review data) and before using that data it need to cleaned.\n",
        "\n",
        "\n",
        "So, let's have a look at the reviews dataset."
      ]
    },
    {
      "cell_type": "code",
      "metadata": {
        "id": "lqbOurn9SYZT"
      },
      "source": [
        "# copying the dataset\n",
        "reviews_file = raw_reviews.copy()"
      ],
      "execution_count": 319,
      "outputs": []
    },
    {
      "cell_type": "code",
      "metadata": {
        "id": "dU5SpuWnU8AU",
        "colab": {
          "base_uri": "https://localhost:8080/",
          "height": 206
        },
        "outputId": "9b9810d6-f38f-414d-bbcd-6812f647ae9f"
      },
      "source": [
        "reviews_file.head()"
      ],
      "execution_count": 320,
      "outputs": [
        {
          "output_type": "execute_result",
          "data": {
            "text/plain": [
              "                     App                                  Translated_Review  \\\n",
              "0  10 Best Foods for You  I like eat delicious food. That's I'm cooking ...   \n",
              "1  10 Best Foods for You    This help eating healthy exercise regular basis   \n",
              "2  10 Best Foods for You                                                NaN   \n",
              "3  10 Best Foods for You         Works great especially going grocery store   \n",
              "4  10 Best Foods for You                                       Best idea us   \n",
              "\n",
              "  Sentiment  Sentiment_Polarity  Sentiment_Subjectivity  \n",
              "0  Positive                1.00                0.533333  \n",
              "1  Positive                0.25                0.288462  \n",
              "2       NaN                 NaN                     NaN  \n",
              "3  Positive                0.40                0.875000  \n",
              "4  Positive                1.00                0.300000  "
            ],
            "text/html": [
              "\n",
              "  <div id=\"df-724f9546-619e-410b-a319-9e10f356da26\" class=\"colab-df-container\">\n",
              "    <div>\n",
              "<style scoped>\n",
              "    .dataframe tbody tr th:only-of-type {\n",
              "        vertical-align: middle;\n",
              "    }\n",
              "\n",
              "    .dataframe tbody tr th {\n",
              "        vertical-align: top;\n",
              "    }\n",
              "\n",
              "    .dataframe thead th {\n",
              "        text-align: right;\n",
              "    }\n",
              "</style>\n",
              "<table border=\"1\" class=\"dataframe\">\n",
              "  <thead>\n",
              "    <tr style=\"text-align: right;\">\n",
              "      <th></th>\n",
              "      <th>App</th>\n",
              "      <th>Translated_Review</th>\n",
              "      <th>Sentiment</th>\n",
              "      <th>Sentiment_Polarity</th>\n",
              "      <th>Sentiment_Subjectivity</th>\n",
              "    </tr>\n",
              "  </thead>\n",
              "  <tbody>\n",
              "    <tr>\n",
              "      <th>0</th>\n",
              "      <td>10 Best Foods for You</td>\n",
              "      <td>I like eat delicious food. That's I'm cooking ...</td>\n",
              "      <td>Positive</td>\n",
              "      <td>1.00</td>\n",
              "      <td>0.533333</td>\n",
              "    </tr>\n",
              "    <tr>\n",
              "      <th>1</th>\n",
              "      <td>10 Best Foods for You</td>\n",
              "      <td>This help eating healthy exercise regular basis</td>\n",
              "      <td>Positive</td>\n",
              "      <td>0.25</td>\n",
              "      <td>0.288462</td>\n",
              "    </tr>\n",
              "    <tr>\n",
              "      <th>2</th>\n",
              "      <td>10 Best Foods for You</td>\n",
              "      <td>NaN</td>\n",
              "      <td>NaN</td>\n",
              "      <td>NaN</td>\n",
              "      <td>NaN</td>\n",
              "    </tr>\n",
              "    <tr>\n",
              "      <th>3</th>\n",
              "      <td>10 Best Foods for You</td>\n",
              "      <td>Works great especially going grocery store</td>\n",
              "      <td>Positive</td>\n",
              "      <td>0.40</td>\n",
              "      <td>0.875000</td>\n",
              "    </tr>\n",
              "    <tr>\n",
              "      <th>4</th>\n",
              "      <td>10 Best Foods for You</td>\n",
              "      <td>Best idea us</td>\n",
              "      <td>Positive</td>\n",
              "      <td>1.00</td>\n",
              "      <td>0.300000</td>\n",
              "    </tr>\n",
              "  </tbody>\n",
              "</table>\n",
              "</div>\n",
              "    <div class=\"colab-df-buttons\">\n",
              "\n",
              "  <div class=\"colab-df-container\">\n",
              "    <button class=\"colab-df-convert\" onclick=\"convertToInteractive('df-724f9546-619e-410b-a319-9e10f356da26')\"\n",
              "            title=\"Convert this dataframe to an interactive table.\"\n",
              "            style=\"display:none;\">\n",
              "\n",
              "  <svg xmlns=\"http://www.w3.org/2000/svg\" height=\"24px\" viewBox=\"0 -960 960 960\">\n",
              "    <path d=\"M120-120v-720h720v720H120Zm60-500h600v-160H180v160Zm220 220h160v-160H400v160Zm0 220h160v-160H400v160ZM180-400h160v-160H180v160Zm440 0h160v-160H620v160ZM180-180h160v-160H180v160Zm440 0h160v-160H620v160Z\"/>\n",
              "  </svg>\n",
              "    </button>\n",
              "\n",
              "  <style>\n",
              "    .colab-df-container {\n",
              "      display:flex;\n",
              "      gap: 12px;\n",
              "    }\n",
              "\n",
              "    .colab-df-convert {\n",
              "      background-color: #E8F0FE;\n",
              "      border: none;\n",
              "      border-radius: 50%;\n",
              "      cursor: pointer;\n",
              "      display: none;\n",
              "      fill: #1967D2;\n",
              "      height: 32px;\n",
              "      padding: 0 0 0 0;\n",
              "      width: 32px;\n",
              "    }\n",
              "\n",
              "    .colab-df-convert:hover {\n",
              "      background-color: #E2EBFA;\n",
              "      box-shadow: 0px 1px 2px rgba(60, 64, 67, 0.3), 0px 1px 3px 1px rgba(60, 64, 67, 0.15);\n",
              "      fill: #174EA6;\n",
              "    }\n",
              "\n",
              "    .colab-df-buttons div {\n",
              "      margin-bottom: 4px;\n",
              "    }\n",
              "\n",
              "    [theme=dark] .colab-df-convert {\n",
              "      background-color: #3B4455;\n",
              "      fill: #D2E3FC;\n",
              "    }\n",
              "\n",
              "    [theme=dark] .colab-df-convert:hover {\n",
              "      background-color: #434B5C;\n",
              "      box-shadow: 0px 1px 3px 1px rgba(0, 0, 0, 0.15);\n",
              "      filter: drop-shadow(0px 1px 2px rgba(0, 0, 0, 0.3));\n",
              "      fill: #FFFFFF;\n",
              "    }\n",
              "  </style>\n",
              "\n",
              "    <script>\n",
              "      const buttonEl =\n",
              "        document.querySelector('#df-724f9546-619e-410b-a319-9e10f356da26 button.colab-df-convert');\n",
              "      buttonEl.style.display =\n",
              "        google.colab.kernel.accessAllowed ? 'block' : 'none';\n",
              "\n",
              "      async function convertToInteractive(key) {\n",
              "        const element = document.querySelector('#df-724f9546-619e-410b-a319-9e10f356da26');\n",
              "        const dataTable =\n",
              "          await google.colab.kernel.invokeFunction('convertToInteractive',\n",
              "                                                    [key], {});\n",
              "        if (!dataTable) return;\n",
              "\n",
              "        const docLinkHtml = 'Like what you see? Visit the ' +\n",
              "          '<a target=\"_blank\" href=https://colab.research.google.com/notebooks/data_table.ipynb>data table notebook</a>'\n",
              "          + ' to learn more about interactive tables.';\n",
              "        element.innerHTML = '';\n",
              "        dataTable['output_type'] = 'display_data';\n",
              "        await google.colab.output.renderOutput(dataTable, element);\n",
              "        const docLink = document.createElement('div');\n",
              "        docLink.innerHTML = docLinkHtml;\n",
              "        element.appendChild(docLink);\n",
              "      }\n",
              "    </script>\n",
              "  </div>\n",
              "\n",
              "\n",
              "<div id=\"df-d0500f46-f1a1-41da-9213-91764243ca76\">\n",
              "  <button class=\"colab-df-quickchart\" onclick=\"quickchart('df-d0500f46-f1a1-41da-9213-91764243ca76')\"\n",
              "            title=\"Suggest charts\"\n",
              "            style=\"display:none;\">\n",
              "\n",
              "<svg xmlns=\"http://www.w3.org/2000/svg\" height=\"24px\"viewBox=\"0 0 24 24\"\n",
              "     width=\"24px\">\n",
              "    <g>\n",
              "        <path d=\"M19 3H5c-1.1 0-2 .9-2 2v14c0 1.1.9 2 2 2h14c1.1 0 2-.9 2-2V5c0-1.1-.9-2-2-2zM9 17H7v-7h2v7zm4 0h-2V7h2v10zm4 0h-2v-4h2v4z\"/>\n",
              "    </g>\n",
              "</svg>\n",
              "  </button>\n",
              "\n",
              "<style>\n",
              "  .colab-df-quickchart {\n",
              "      --bg-color: #E8F0FE;\n",
              "      --fill-color: #1967D2;\n",
              "      --hover-bg-color: #E2EBFA;\n",
              "      --hover-fill-color: #174EA6;\n",
              "      --disabled-fill-color: #AAA;\n",
              "      --disabled-bg-color: #DDD;\n",
              "  }\n",
              "\n",
              "  [theme=dark] .colab-df-quickchart {\n",
              "      --bg-color: #3B4455;\n",
              "      --fill-color: #D2E3FC;\n",
              "      --hover-bg-color: #434B5C;\n",
              "      --hover-fill-color: #FFFFFF;\n",
              "      --disabled-bg-color: #3B4455;\n",
              "      --disabled-fill-color: #666;\n",
              "  }\n",
              "\n",
              "  .colab-df-quickchart {\n",
              "    background-color: var(--bg-color);\n",
              "    border: none;\n",
              "    border-radius: 50%;\n",
              "    cursor: pointer;\n",
              "    display: none;\n",
              "    fill: var(--fill-color);\n",
              "    height: 32px;\n",
              "    padding: 0;\n",
              "    width: 32px;\n",
              "  }\n",
              "\n",
              "  .colab-df-quickchart:hover {\n",
              "    background-color: var(--hover-bg-color);\n",
              "    box-shadow: 0 1px 2px rgba(60, 64, 67, 0.3), 0 1px 3px 1px rgba(60, 64, 67, 0.15);\n",
              "    fill: var(--button-hover-fill-color);\n",
              "  }\n",
              "\n",
              "  .colab-df-quickchart-complete:disabled,\n",
              "  .colab-df-quickchart-complete:disabled:hover {\n",
              "    background-color: var(--disabled-bg-color);\n",
              "    fill: var(--disabled-fill-color);\n",
              "    box-shadow: none;\n",
              "  }\n",
              "\n",
              "  .colab-df-spinner {\n",
              "    border: 2px solid var(--fill-color);\n",
              "    border-color: transparent;\n",
              "    border-bottom-color: var(--fill-color);\n",
              "    animation:\n",
              "      spin 1s steps(1) infinite;\n",
              "  }\n",
              "\n",
              "  @keyframes spin {\n",
              "    0% {\n",
              "      border-color: transparent;\n",
              "      border-bottom-color: var(--fill-color);\n",
              "      border-left-color: var(--fill-color);\n",
              "    }\n",
              "    20% {\n",
              "      border-color: transparent;\n",
              "      border-left-color: var(--fill-color);\n",
              "      border-top-color: var(--fill-color);\n",
              "    }\n",
              "    30% {\n",
              "      border-color: transparent;\n",
              "      border-left-color: var(--fill-color);\n",
              "      border-top-color: var(--fill-color);\n",
              "      border-right-color: var(--fill-color);\n",
              "    }\n",
              "    40% {\n",
              "      border-color: transparent;\n",
              "      border-right-color: var(--fill-color);\n",
              "      border-top-color: var(--fill-color);\n",
              "    }\n",
              "    60% {\n",
              "      border-color: transparent;\n",
              "      border-right-color: var(--fill-color);\n",
              "    }\n",
              "    80% {\n",
              "      border-color: transparent;\n",
              "      border-right-color: var(--fill-color);\n",
              "      border-bottom-color: var(--fill-color);\n",
              "    }\n",
              "    90% {\n",
              "      border-color: transparent;\n",
              "      border-bottom-color: var(--fill-color);\n",
              "    }\n",
              "  }\n",
              "</style>\n",
              "\n",
              "  <script>\n",
              "    async function quickchart(key) {\n",
              "      const quickchartButtonEl =\n",
              "        document.querySelector('#' + key + ' button');\n",
              "      quickchartButtonEl.disabled = true;  // To prevent multiple clicks.\n",
              "      quickchartButtonEl.classList.add('colab-df-spinner');\n",
              "      try {\n",
              "        const charts = await google.colab.kernel.invokeFunction(\n",
              "            'suggestCharts', [key], {});\n",
              "      } catch (error) {\n",
              "        console.error('Error during call to suggestCharts:', error);\n",
              "      }\n",
              "      quickchartButtonEl.classList.remove('colab-df-spinner');\n",
              "      quickchartButtonEl.classList.add('colab-df-quickchart-complete');\n",
              "    }\n",
              "    (() => {\n",
              "      let quickchartButtonEl =\n",
              "        document.querySelector('#df-d0500f46-f1a1-41da-9213-91764243ca76 button');\n",
              "      quickchartButtonEl.style.display =\n",
              "        google.colab.kernel.accessAllowed ? 'block' : 'none';\n",
              "    })();\n",
              "  </script>\n",
              "</div>\n",
              "\n",
              "    </div>\n",
              "  </div>\n"
            ],
            "application/vnd.google.colaboratory.intrinsic+json": {
              "type": "dataframe",
              "variable_name": "reviews_file",
              "summary": "{\n  \"name\": \"reviews_file\",\n  \"rows\": 64295,\n  \"fields\": [\n    {\n      \"column\": \"App\",\n      \"properties\": {\n        \"dtype\": \"category\",\n        \"num_unique_values\": 1074,\n        \"samples\": [\n          \"Daily Yoga - Yoga Fitness Plans\",\n          \"Calorie Counter - MyNetDiary\",\n          \"Bubble Shooter Genies\"\n        ],\n        \"semantic_type\": \"\",\n        \"description\": \"\"\n      }\n    },\n    {\n      \"column\": \"Translated_Review\",\n      \"properties\": {\n        \"dtype\": \"category\",\n        \"num_unique_values\": 27994,\n        \"samples\": [\n          \"It trick I enjoy I always it.\",\n          \"I wish features..\",\n          \"Nice It's nice , I like it. But fraction calculation number seems overlapping. I hope next update fix it. And unit conversion also please put swapping button easily swap unit i.e. cm km km cm quickly.\"\n        ],\n        \"semantic_type\": \"\",\n        \"description\": \"\"\n      }\n    },\n    {\n      \"column\": \"Sentiment\",\n      \"properties\": {\n        \"dtype\": \"category\",\n        \"num_unique_values\": 3,\n        \"samples\": [\n          \"Positive\",\n          \"Neutral\",\n          \"Negative\"\n        ],\n        \"semantic_type\": \"\",\n        \"description\": \"\"\n      }\n    },\n    {\n      \"column\": \"Sentiment_Polarity\",\n      \"properties\": {\n        \"dtype\": \"number\",\n        \"std\": 0.3513009821962471,\n        \"min\": -1.0,\n        \"max\": 1.0,\n        \"num_unique_values\": 5410,\n        \"samples\": [\n          -0.2005892255892255,\n          -0.244047619047619,\n          -0.6499999999999999\n        ],\n        \"semantic_type\": \"\",\n        \"description\": \"\"\n      }\n    },\n    {\n      \"column\": \"Sentiment_Subjectivity\",\n      \"properties\": {\n        \"dtype\": \"number\",\n        \"std\": 0.2599490141105687,\n        \"min\": 0.0,\n        \"max\": 1.0,\n        \"num_unique_values\": 4474,\n        \"samples\": [\n          0.3898484848484849,\n          0.530909090909091,\n          0.7811447811447811\n        ],\n        \"semantic_type\": \"\",\n        \"description\": \"\"\n      }\n    }\n  ]\n}"
            }
          },
          "metadata": {},
          "execution_count": 320
        }
      ]
    },
    {
      "cell_type": "code",
      "metadata": {
        "id": "ojsqydH8WBZm",
        "colab": {
          "base_uri": "https://localhost:8080/"
        },
        "outputId": "1e678828-e85c-454f-a215-96a0d0abef27"
      },
      "source": [
        "reviews_file.info()"
      ],
      "execution_count": 321,
      "outputs": [
        {
          "output_type": "stream",
          "name": "stdout",
          "text": [
            "<class 'pandas.core.frame.DataFrame'>\n",
            "RangeIndex: 64295 entries, 0 to 64294\n",
            "Data columns (total 5 columns):\n",
            " #   Column                  Non-Null Count  Dtype  \n",
            "---  ------                  --------------  -----  \n",
            " 0   App                     64295 non-null  object \n",
            " 1   Translated_Review       37427 non-null  object \n",
            " 2   Sentiment               37432 non-null  object \n",
            " 3   Sentiment_Polarity      37432 non-null  float64\n",
            " 4   Sentiment_Subjectivity  37432 non-null  float64\n",
            "dtypes: float64(2), object(3)\n",
            "memory usage: 2.5+ MB\n"
          ]
        }
      ]
    },
    {
      "cell_type": "markdown",
      "metadata": {
        "id": "TMwr5wL1EfFE"
      },
      "source": [
        "Reviews dataset contain 5 columns\n",
        "\n",
        "* **App** : Name of the App\n",
        "\n",
        "* **Translated Review** : Translated_Review column discribes th user's thoughts and feelings about the app.\n",
        "\n",
        "* **Sentiment** : It describes the sentiment of the user giving the review. In unique values as Positive, Negative and Neutral.\n",
        "\n",
        "* **Sentiment Polarity** : It indicates how negative or positive the overall review analyzed is. Score below 0 is negative, above 0 is positive and 0 is neutral.\n",
        "\n",
        "* **Sentiment Subjectivity** : Subjectivity quantifies the amount of personal opinion and factual information contained in the text. The higher subjectivity means that the text contains personal opinion rather than factual information.  \n",
        "\n",
        "\n",
        "**Sentiment analysis** is the process of detecting positive or negative sentiment in text.\n"
      ]
    },
    {
      "cell_type": "markdown",
      "metadata": {
        "id": "Rq3-5VwyNKRD"
      },
      "source": [
        "## **Cleaning of reviews dataset**"
      ]
    },
    {
      "cell_type": "code",
      "metadata": {
        "id": "aLmuy5AkNbMV",
        "colab": {
          "base_uri": "https://localhost:8080/"
        },
        "outputId": "f5f40697-9604-493c-e539-eae3f1e69f23"
      },
      "source": [
        "# Lets see the missing values\n",
        "reviews_file.isna().sum()"
      ],
      "execution_count": 322,
      "outputs": [
        {
          "output_type": "execute_result",
          "data": {
            "text/plain": [
              "App                           0\n",
              "Translated_Review         26868\n",
              "Sentiment                 26863\n",
              "Sentiment_Polarity        26863\n",
              "Sentiment_Subjectivity    26863\n",
              "dtype: int64"
            ]
          },
          "metadata": {},
          "execution_count": 322
        }
      ]
    },
    {
      "cell_type": "markdown",
      "metadata": {
        "id": "UGyByHfNQfte"
      },
      "source": [
        "The reviews dataset contains a lot of missing values.As we will work with numeric data and so we cannot predict the value of the missing data, will be better to drop the rows having missing values with unneccery columns that are not needed for analysis."
      ]
    },
    {
      "cell_type": "code",
      "metadata": {
        "id": "o0rJCcF0XKbK"
      },
      "source": [
        "# droping unnecessary columns\n",
        "reviews_file.drop(columns=['Translated_Review','Sentiment'], axis= 1, inplace= True)"
      ],
      "execution_count": 323,
      "outputs": []
    },
    {
      "cell_type": "code",
      "metadata": {
        "id": "LBdcxwJRU78t"
      },
      "source": [
        "# droping missing data\n",
        "reviews_file.dropna(inplace= True)"
      ],
      "execution_count": 324,
      "outputs": []
    },
    {
      "cell_type": "markdown",
      "metadata": {
        "id": "mkAykqTCkeUA"
      },
      "source": [
        "## **Sentiment analysis for free and paid apps**"
      ]
    },
    {
      "cell_type": "code",
      "metadata": {
        "id": "pnzr0LKJ32Rs"
      },
      "source": [
        "# Joining two dataframes\n",
        "cp4 = pd.merge(apps_data, reviews_file, on='App', how = \"inner\")"
      ],
      "execution_count": 325,
      "outputs": []
    },
    {
      "cell_type": "code",
      "metadata": {
        "id": "c7tShK9aUtyq",
        "colab": {
          "base_uri": "https://localhost:8080/",
          "height": 564
        },
        "outputId": "2bfbb031-4b41-450b-84a9-d6ca79fcbbfd"
      },
      "source": [
        "# boxplot for sentiment analysis\n",
        "fig, ax = plt.subplots(figsize=(8,6))\n",
        "ax = sns.boxplot(x = 'Type', y = 'Sentiment_Polarity',color = \"red\", data = cp4)\n",
        "ax.set_title('Sentiment analysis of free and paid apps')\n",
        "\n",
        "plt.show()"
      ],
      "execution_count": 326,
      "outputs": [
        {
          "output_type": "display_data",
          "data": {
            "text/plain": [
              "<Figure size 800x600 with 1 Axes>"
            ],
            "image/png": "[encoded data removed]"
          },
          "metadata": {}
        }
      ]
    },
    {
      "cell_type": "markdown",
      "source": [
        "* People using paid apps have better sentiments in them."
      ],
      "metadata": {
        "id": "Hjd4_okRFmay"
      }
    },
    {
      "cell_type": "markdown",
      "source": [
        "# **Conclusion**"
      ],
      "metadata": {
        "id": "bzXudjUj4Sx1"
      }
    },
    {
      "cell_type": "markdown",
      "source": [
        "\n",
        "\n",
        "*   **Family Catgory has more apps on the play store but game category is the most popular category as this category apps has highest installs**.\n",
        "\n",
        "*   **App rating and reviews have significant impacts on the user's decision to download the app or not.**\n",
        "\n",
        "*   **Paid apps have better rating as compared to free apps.**\n",
        "\n",
        "*   **Size of Apps matter, as users prefer apps that reqire less spcae. Apps that take larger space are downloaded less.**\n",
        "\n",
        "*   **Sentimets in reviews also matters in attracting new users.**\n",
        "*   **Paid app users have better sentiments when comapred with free app users.**\n",
        "\n"
      ],
      "metadata": {
        "id": "bGrflz9b4Y7F"
      }
    }
  ]
}